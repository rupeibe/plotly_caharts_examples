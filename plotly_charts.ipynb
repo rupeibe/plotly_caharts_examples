{
 "cells": [
  {
   "cell_type": "code",
   "execution_count": 1,
   "metadata": {},
   "outputs": [],
   "source": [
    "import pandas as pd\n",
    "import numpy as np\n",
    "import plotly.express as px"
   ]
  },
  {
   "attachments": {},
   "cell_type": "markdown",
   "metadata": {},
   "source": [
    "## Ejemplo gráfico barras verticales"
   ]
  },
  {
   "cell_type": "code",
   "execution_count": 2,
   "metadata": {},
   "outputs": [
    {
     "data": {
      "text/html": [
       "<div>\n",
       "<style scoped>\n",
       "    .dataframe tbody tr th:only-of-type {\n",
       "        vertical-align: middle;\n",
       "    }\n",
       "\n",
       "    .dataframe tbody tr th {\n",
       "        vertical-align: top;\n",
       "    }\n",
       "\n",
       "    .dataframe thead th {\n",
       "        text-align: right;\n",
       "    }\n",
       "</style>\n",
       "<table border=\"1\" class=\"dataframe\">\n",
       "  <thead>\n",
       "    <tr style=\"text-align: right;\">\n",
       "      <th></th>\n",
       "      <th>estilos</th>\n",
       "      <th>count</th>\n",
       "    </tr>\n",
       "  </thead>\n",
       "  <tbody>\n",
       "    <tr>\n",
       "      <th>0</th>\n",
       "      <td>rock</td>\n",
       "      <td>188</td>\n",
       "    </tr>\n",
       "    <tr>\n",
       "      <th>1</th>\n",
       "      <td>pop</td>\n",
       "      <td>174</td>\n",
       "    </tr>\n",
       "    <tr>\n",
       "      <th>2</th>\n",
       "      <td>indie</td>\n",
       "      <td>132</td>\n",
       "    </tr>\n",
       "    <tr>\n",
       "      <th>3</th>\n",
       "      <td>urban</td>\n",
       "      <td>74</td>\n",
       "    </tr>\n",
       "    <tr>\n",
       "      <th>4</th>\n",
       "      <td>electronic</td>\n",
       "      <td>73</td>\n",
       "    </tr>\n",
       "    <tr>\n",
       "      <th>...</th>\n",
       "      <td>...</td>\n",
       "      <td>...</td>\n",
       "    </tr>\n",
       "    <tr>\n",
       "      <th>85</th>\n",
       "      <td>alt-country</td>\n",
       "      <td>1</td>\n",
       "    </tr>\n",
       "    <tr>\n",
       "      <th>86</th>\n",
       "      <td>krautrock</td>\n",
       "      <td>1</td>\n",
       "    </tr>\n",
       "    <tr>\n",
       "      <th>87</th>\n",
       "      <td>melodic death metal</td>\n",
       "      <td>1</td>\n",
       "    </tr>\n",
       "    <tr>\n",
       "      <th>88</th>\n",
       "      <td>melodic metal</td>\n",
       "      <td>1</td>\n",
       "    </tr>\n",
       "    <tr>\n",
       "      <th>89</th>\n",
       "      <td>video</td>\n",
       "      <td>1</td>\n",
       "    </tr>\n",
       "  </tbody>\n",
       "</table>\n",
       "<p>90 rows × 2 columns</p>\n",
       "</div>"
      ],
      "text/plain": [
       "                estilos  count\n",
       "0                  rock    188\n",
       "1                   pop    174\n",
       "2                 indie    132\n",
       "3                 urban     74\n",
       "4            electronic     73\n",
       "..                  ...    ...\n",
       "85          alt-country      1\n",
       "86            krautrock      1\n",
       "87  melodic death metal      1\n",
       "88        melodic metal      1\n",
       "89                video      1\n",
       "\n",
       "[90 rows x 2 columns]"
      ]
     },
     "execution_count": 2,
     "metadata": {},
     "output_type": "execute_result"
    }
   ],
   "source": [
    "estilos_analisis = pd.read_csv(\"csv/estilos.csv\", index_col= 0)\n",
    "estilos_analisis"
   ]
  },
  {
   "cell_type": "code",
   "execution_count": 3,
   "metadata": {},
   "outputs": [
    {
     "data": {
      "application/vnd.plotly.v1+json": {
       "config": {
        "plotlyServerURL": "https://plot.ly"
       },
       "data": [
        {
         "alignmentgroup": "True",
         "hovertemplate": "estilos=%{x}<br>count=%{y}<extra></extra>",
         "legendgroup": "",
         "marker": {
          "color": [
           "#ffba08",
           "#faa307",
           "#f48c06",
           "#e85d04",
           "#dc2f02",
           "#d00000",
           "#9d0208",
           "#6a040f",
           "#370617",
           "#03071e",
           "#ffba08",
           "#faa307",
           "#f48c06",
           "#e85d04",
           "#dc2f02",
           "#d00000",
           "#9d0208",
           "#6a040f",
           "#370617",
           "#03071e",
           "#ffba08",
           "#faa307",
           "#f48c06",
           "#e85d04",
           "#dc2f02",
           "#d00000",
           "#9d0208",
           "#6a040f",
           "#370617",
           "#03071e",
           "#ffba08",
           "#faa307",
           "#f48c06",
           "#e85d04",
           "#dc2f02",
           "#d00000",
           "#9d0208",
           "#6a040f",
           "#370617",
           "#03071e",
           "#ffba08",
           "#faa307",
           "#f48c06",
           "#e85d04",
           "#dc2f02",
           "#d00000",
           "#9d0208",
           "#6a040f",
           "#370617",
           "#03071e",
           "#ffba08",
           "#faa307",
           "#f48c06",
           "#e85d04",
           "#dc2f02",
           "#d00000",
           "#9d0208",
           "#6a040f",
           "#370617",
           "#03071e",
           "#ffba08",
           "#faa307",
           "#f48c06",
           "#e85d04",
           "#dc2f02",
           "#d00000",
           "#9d0208",
           "#6a040f",
           "#370617",
           "#03071e",
           "#ffba08",
           "#faa307",
           "#f48c06",
           "#e85d04",
           "#dc2f02",
           "#d00000",
           "#9d0208",
           "#6a040f",
           "#370617",
           "#03071e",
           "#ffba08",
           "#faa307",
           "#f48c06",
           "#e85d04",
           "#dc2f02",
           "#d00000",
           "#9d0208",
           "#6a040f",
           "#370617",
           "#03071e",
           "#ffba08",
           "#faa307",
           "#f48c06",
           "#e85d04",
           "#dc2f02",
           "#d00000",
           "#9d0208",
           "#6a040f",
           "#370617",
           "#03071e",
           "#ffba08",
           "#faa307",
           "#f48c06",
           "#e85d04",
           "#dc2f02",
           "#d00000",
           "#9d0208",
           "#6a040f",
           "#370617",
           "#03071e",
           "#ffba08",
           "#faa307",
           "#f48c06",
           "#e85d04",
           "#dc2f02",
           "#d00000",
           "#9d0208",
           "#6a040f",
           "#370617",
           "#03071e",
           "#ffba08",
           "#faa307",
           "#f48c06",
           "#e85d04",
           "#dc2f02",
           "#d00000",
           "#9d0208",
           "#6a040f",
           "#370617",
           "#03071e",
           "#ffba08",
           "#faa307",
           "#f48c06",
           "#e85d04",
           "#dc2f02",
           "#d00000",
           "#9d0208",
           "#6a040f",
           "#370617",
           "#03071e",
           "#ffba08",
           "#faa307",
           "#f48c06",
           "#e85d04",
           "#dc2f02",
           "#d00000",
           "#9d0208",
           "#6a040f",
           "#370617",
           "#03071e",
           "#ffba08",
           "#faa307",
           "#f48c06",
           "#e85d04",
           "#dc2f02",
           "#d00000",
           "#9d0208",
           "#6a040f",
           "#370617",
           "#03071e",
           "#ffba08",
           "#faa307",
           "#f48c06",
           "#e85d04",
           "#dc2f02",
           "#d00000",
           "#9d0208",
           "#6a040f",
           "#370617",
           "#03071e",
           "#ffba08",
           "#faa307",
           "#f48c06",
           "#e85d04",
           "#dc2f02",
           "#d00000",
           "#9d0208",
           "#6a040f",
           "#370617",
           "#03071e",
           "#ffba08",
           "#faa307",
           "#f48c06",
           "#e85d04",
           "#dc2f02",
           "#d00000",
           "#9d0208",
           "#6a040f",
           "#370617",
           "#03071e",
           "#ffba08",
           "#faa307",
           "#f48c06",
           "#e85d04",
           "#dc2f02",
           "#d00000",
           "#9d0208",
           "#6a040f",
           "#370617",
           "#03071e",
           "#ffba08",
           "#faa307",
           "#f48c06",
           "#e85d04",
           "#dc2f02",
           "#d00000",
           "#9d0208",
           "#6a040f",
           "#370617",
           "#03071e",
           "#ffba08",
           "#faa307",
           "#f48c06",
           "#e85d04",
           "#dc2f02",
           "#d00000",
           "#9d0208",
           "#6a040f",
           "#370617",
           "#03071e",
           "#ffba08",
           "#faa307",
           "#f48c06",
           "#e85d04",
           "#dc2f02",
           "#d00000",
           "#9d0208",
           "#6a040f",
           "#370617",
           "#03071e",
           "#ffba08",
           "#faa307",
           "#f48c06",
           "#e85d04",
           "#dc2f02",
           "#d00000",
           "#9d0208",
           "#6a040f",
           "#370617",
           "#03071e",
           "#ffba08",
           "#faa307",
           "#f48c06",
           "#e85d04",
           "#dc2f02",
           "#d00000",
           "#9d0208",
           "#6a040f",
           "#370617",
           "#03071e",
           "#ffba08",
           "#faa307",
           "#f48c06",
           "#e85d04",
           "#dc2f02",
           "#d00000",
           "#9d0208",
           "#6a040f",
           "#370617",
           "#03071e",
           "#ffba08",
           "#faa307",
           "#f48c06",
           "#e85d04",
           "#dc2f02",
           "#d00000",
           "#9d0208",
           "#6a040f",
           "#370617",
           "#03071e",
           "#ffba08",
           "#faa307",
           "#f48c06",
           "#e85d04",
           "#dc2f02",
           "#d00000",
           "#9d0208",
           "#6a040f",
           "#370617",
           "#03071e",
           "#ffba08",
           "#faa307",
           "#f48c06",
           "#e85d04",
           "#dc2f02",
           "#d00000",
           "#9d0208",
           "#6a040f",
           "#370617",
           "#03071e",
           "#ffba08",
           "#faa307",
           "#f48c06",
           "#e85d04",
           "#dc2f02",
           "#d00000",
           "#9d0208",
           "#6a040f",
           "#370617",
           "#03071e",
           "#ffba08",
           "#faa307",
           "#f48c06",
           "#e85d04",
           "#dc2f02",
           "#d00000",
           "#9d0208",
           "#6a040f",
           "#370617",
           "#03071e",
           "#ffba08",
           "#faa307",
           "#f48c06",
           "#e85d04",
           "#dc2f02",
           "#d00000",
           "#9d0208",
           "#6a040f",
           "#370617",
           "#03071e",
           "#ffba08",
           "#faa307",
           "#f48c06",
           "#e85d04",
           "#dc2f02",
           "#d00000",
           "#9d0208",
           "#6a040f",
           "#370617",
           "#03071e",
           "#ffba08",
           "#faa307",
           "#f48c06",
           "#e85d04",
           "#dc2f02",
           "#d00000",
           "#9d0208",
           "#6a040f",
           "#370617",
           "#03071e",
           "#ffba08",
           "#faa307",
           "#f48c06",
           "#e85d04",
           "#dc2f02",
           "#d00000",
           "#9d0208",
           "#6a040f",
           "#370617",
           "#03071e",
           "#ffba08",
           "#faa307",
           "#f48c06",
           "#e85d04",
           "#dc2f02",
           "#d00000",
           "#9d0208",
           "#6a040f",
           "#370617",
           "#03071e",
           "#ffba08",
           "#faa307",
           "#f48c06",
           "#e85d04",
           "#dc2f02",
           "#d00000",
           "#9d0208",
           "#6a040f",
           "#370617",
           "#03071e",
           "#ffba08",
           "#faa307",
           "#f48c06",
           "#e85d04",
           "#dc2f02",
           "#d00000",
           "#9d0208",
           "#6a040f",
           "#370617",
           "#03071e",
           "#ffba08",
           "#faa307",
           "#f48c06",
           "#e85d04",
           "#dc2f02",
           "#d00000",
           "#9d0208",
           "#6a040f",
           "#370617",
           "#03071e",
           "#ffba08",
           "#faa307",
           "#f48c06",
           "#e85d04",
           "#dc2f02",
           "#d00000",
           "#9d0208",
           "#6a040f",
           "#370617",
           "#03071e",
           "#ffba08",
           "#faa307",
           "#f48c06",
           "#e85d04",
           "#dc2f02",
           "#d00000",
           "#9d0208",
           "#6a040f",
           "#370617",
           "#03071e",
           "#ffba08",
           "#faa307",
           "#f48c06",
           "#e85d04",
           "#dc2f02",
           "#d00000",
           "#9d0208",
           "#6a040f",
           "#370617",
           "#03071e",
           "#ffba08",
           "#faa307",
           "#f48c06",
           "#e85d04",
           "#dc2f02",
           "#d00000",
           "#9d0208",
           "#6a040f",
           "#370617",
           "#03071e",
           "#ffba08",
           "#faa307",
           "#f48c06",
           "#e85d04",
           "#dc2f02",
           "#d00000",
           "#9d0208",
           "#6a040f",
           "#370617",
           "#03071e",
           "#ffba08",
           "#faa307",
           "#f48c06",
           "#e85d04",
           "#dc2f02",
           "#d00000",
           "#9d0208",
           "#6a040f",
           "#370617",
           "#03071e",
           "#ffba08",
           "#faa307",
           "#f48c06",
           "#e85d04",
           "#dc2f02",
           "#d00000",
           "#9d0208",
           "#6a040f",
           "#370617",
           "#03071e",
           "#ffba08",
           "#faa307",
           "#f48c06",
           "#e85d04",
           "#dc2f02",
           "#d00000",
           "#9d0208",
           "#6a040f",
           "#370617",
           "#03071e",
           "#ffba08",
           "#faa307",
           "#f48c06",
           "#e85d04",
           "#dc2f02",
           "#d00000",
           "#9d0208",
           "#6a040f",
           "#370617",
           "#03071e",
           "#ffba08",
           "#faa307",
           "#f48c06",
           "#e85d04",
           "#dc2f02",
           "#d00000",
           "#9d0208",
           "#6a040f",
           "#370617",
           "#03071e",
           "#ffba08",
           "#faa307",
           "#f48c06",
           "#e85d04",
           "#dc2f02",
           "#d00000",
           "#9d0208",
           "#6a040f",
           "#370617",
           "#03071e",
           "#ffba08",
           "#faa307",
           "#f48c06",
           "#e85d04",
           "#dc2f02",
           "#d00000",
           "#9d0208",
           "#6a040f",
           "#370617",
           "#03071e",
           "#ffba08",
           "#faa307",
           "#f48c06",
           "#e85d04",
           "#dc2f02",
           "#d00000",
           "#9d0208",
           "#6a040f",
           "#370617",
           "#03071e",
           "#ffba08",
           "#faa307",
           "#f48c06",
           "#e85d04",
           "#dc2f02",
           "#d00000",
           "#9d0208",
           "#6a040f",
           "#370617",
           "#03071e",
           "#ffba08",
           "#faa307",
           "#f48c06",
           "#e85d04",
           "#dc2f02",
           "#d00000",
           "#9d0208",
           "#6a040f",
           "#370617",
           "#03071e",
           "#ffba08",
           "#faa307",
           "#f48c06",
           "#e85d04",
           "#dc2f02",
           "#d00000",
           "#9d0208",
           "#6a040f",
           "#370617",
           "#03071e",
           "#ffba08",
           "#faa307",
           "#f48c06",
           "#e85d04",
           "#dc2f02",
           "#d00000",
           "#9d0208",
           "#6a040f",
           "#370617",
           "#03071e",
           "#ffba08",
           "#faa307",
           "#f48c06",
           "#e85d04",
           "#dc2f02",
           "#d00000",
           "#9d0208",
           "#6a040f",
           "#370617",
           "#03071e",
           "#ffba08",
           "#faa307",
           "#f48c06",
           "#e85d04",
           "#dc2f02",
           "#d00000",
           "#9d0208",
           "#6a040f",
           "#370617",
           "#03071e",
           "#ffba08",
           "#faa307",
           "#f48c06",
           "#e85d04",
           "#dc2f02",
           "#d00000",
           "#9d0208",
           "#6a040f",
           "#370617",
           "#03071e",
           "#ffba08",
           "#faa307",
           "#f48c06",
           "#e85d04",
           "#dc2f02",
           "#d00000",
           "#9d0208",
           "#6a040f",
           "#370617",
           "#03071e",
           "#ffba08",
           "#faa307",
           "#f48c06",
           "#e85d04",
           "#dc2f02",
           "#d00000",
           "#9d0208",
           "#6a040f",
           "#370617",
           "#03071e",
           "#ffba08",
           "#faa307",
           "#f48c06",
           "#e85d04",
           "#dc2f02",
           "#d00000",
           "#9d0208",
           "#6a040f",
           "#370617",
           "#03071e",
           "#ffba08",
           "#faa307",
           "#f48c06",
           "#e85d04",
           "#dc2f02",
           "#d00000",
           "#9d0208",
           "#6a040f",
           "#370617",
           "#03071e",
           "#ffba08",
           "#faa307",
           "#f48c06",
           "#e85d04",
           "#dc2f02",
           "#d00000",
           "#9d0208",
           "#6a040f",
           "#370617",
           "#03071e",
           "#ffba08",
           "#faa307",
           "#f48c06",
           "#e85d04",
           "#dc2f02",
           "#d00000",
           "#9d0208",
           "#6a040f",
           "#370617",
           "#03071e",
           "#ffba08",
           "#faa307",
           "#f48c06",
           "#e85d04",
           "#dc2f02",
           "#d00000",
           "#9d0208",
           "#6a040f",
           "#370617",
           "#03071e",
           "#ffba08",
           "#faa307",
           "#f48c06",
           "#e85d04",
           "#dc2f02",
           "#d00000",
           "#9d0208",
           "#6a040f",
           "#370617",
           "#03071e",
           "#ffba08",
           "#faa307",
           "#f48c06",
           "#e85d04",
           "#dc2f02",
           "#d00000",
           "#9d0208",
           "#6a040f",
           "#370617",
           "#03071e",
           "#ffba08",
           "#faa307",
           "#f48c06",
           "#e85d04",
           "#dc2f02",
           "#d00000",
           "#9d0208",
           "#6a040f",
           "#370617",
           "#03071e",
           "#ffba08",
           "#faa307",
           "#f48c06",
           "#e85d04",
           "#dc2f02",
           "#d00000",
           "#9d0208",
           "#6a040f",
           "#370617",
           "#03071e",
           "#ffba08",
           "#faa307",
           "#f48c06",
           "#e85d04",
           "#dc2f02",
           "#d00000",
           "#9d0208",
           "#6a040f",
           "#370617",
           "#03071e",
           "#ffba08",
           "#faa307",
           "#f48c06",
           "#e85d04",
           "#dc2f02",
           "#d00000",
           "#9d0208",
           "#6a040f",
           "#370617",
           "#03071e",
           "#ffba08",
           "#faa307",
           "#f48c06",
           "#e85d04",
           "#dc2f02",
           "#d00000",
           "#9d0208",
           "#6a040f",
           "#370617",
           "#03071e",
           "#ffba08",
           "#faa307",
           "#f48c06",
           "#e85d04",
           "#dc2f02",
           "#d00000",
           "#9d0208",
           "#6a040f",
           "#370617",
           "#03071e",
           "#ffba08",
           "#faa307",
           "#f48c06",
           "#e85d04",
           "#dc2f02",
           "#d00000",
           "#9d0208",
           "#6a040f",
           "#370617",
           "#03071e",
           "#ffba08",
           "#faa307",
           "#f48c06",
           "#e85d04",
           "#dc2f02",
           "#d00000",
           "#9d0208",
           "#6a040f",
           "#370617",
           "#03071e",
           "#ffba08",
           "#faa307",
           "#f48c06",
           "#e85d04",
           "#dc2f02",
           "#d00000",
           "#9d0208",
           "#6a040f",
           "#370617",
           "#03071e",
           "#ffba08",
           "#faa307",
           "#f48c06",
           "#e85d04",
           "#dc2f02",
           "#d00000",
           "#9d0208",
           "#6a040f",
           "#370617",
           "#03071e",
           "#ffba08",
           "#faa307",
           "#f48c06",
           "#e85d04",
           "#dc2f02",
           "#d00000",
           "#9d0208",
           "#6a040f",
           "#370617",
           "#03071e",
           "#ffba08",
           "#faa307",
           "#f48c06",
           "#e85d04",
           "#dc2f02",
           "#d00000",
           "#9d0208",
           "#6a040f",
           "#370617",
           "#03071e",
           "#ffba08",
           "#faa307",
           "#f48c06",
           "#e85d04",
           "#dc2f02",
           "#d00000",
           "#9d0208",
           "#6a040f",
           "#370617",
           "#03071e",
           "#ffba08",
           "#faa307",
           "#f48c06",
           "#e85d04",
           "#dc2f02",
           "#d00000",
           "#9d0208",
           "#6a040f",
           "#370617",
           "#03071e",
           "#ffba08",
           "#faa307",
           "#f48c06",
           "#e85d04",
           "#dc2f02",
           "#d00000",
           "#9d0208",
           "#6a040f",
           "#370617",
           "#03071e",
           "#ffba08",
           "#faa307",
           "#f48c06",
           "#e85d04",
           "#dc2f02",
           "#d00000",
           "#9d0208",
           "#6a040f",
           "#370617",
           "#03071e",
           "#ffba08",
           "#faa307",
           "#f48c06",
           "#e85d04",
           "#dc2f02",
           "#d00000",
           "#9d0208",
           "#6a040f",
           "#370617",
           "#03071e",
           "#ffba08",
           "#faa307",
           "#f48c06",
           "#e85d04",
           "#dc2f02",
           "#d00000",
           "#9d0208",
           "#6a040f",
           "#370617",
           "#03071e",
           "#ffba08",
           "#faa307",
           "#f48c06",
           "#e85d04",
           "#dc2f02",
           "#d00000",
           "#9d0208",
           "#6a040f",
           "#370617",
           "#03071e",
           "#ffba08",
           "#faa307",
           "#f48c06",
           "#e85d04",
           "#dc2f02",
           "#d00000",
           "#9d0208",
           "#6a040f",
           "#370617",
           "#03071e",
           "#ffba08",
           "#faa307",
           "#f48c06",
           "#e85d04",
           "#dc2f02",
           "#d00000",
           "#9d0208",
           "#6a040f",
           "#370617",
           "#03071e",
           "#ffba08",
           "#faa307",
           "#f48c06",
           "#e85d04",
           "#dc2f02",
           "#d00000",
           "#9d0208",
           "#6a040f",
           "#370617",
           "#03071e"
          ],
          "pattern": {
           "shape": ""
          }
         },
         "name": "",
         "offsetgroup": "",
         "orientation": "v",
         "showlegend": false,
         "text": [
          188,
          174,
          132,
          74,
          73,
          73,
          59,
          55,
          54,
          41,
          40,
          36,
          35,
          30,
          29,
          29,
          27,
          27,
          24,
          22,
          19,
          16,
          15,
          13,
          12,
          11,
          10,
          10,
          9,
          9,
          9,
          9,
          8,
          8,
          7,
          7,
          7,
          7,
          6,
          5,
          5,
          5,
          5,
          5,
          4,
          4,
          3,
          3,
          3,
          3,
          3,
          3,
          3,
          3,
          2,
          2,
          2,
          2,
          2,
          2,
          2,
          2,
          2,
          2,
          2,
          2,
          2,
          2,
          2,
          1,
          1,
          1,
          1,
          1,
          1,
          1,
          1,
          1,
          1,
          1,
          1,
          1,
          1,
          1,
          1,
          1,
          1,
          1,
          1,
          1
         ],
         "textfont": {
          "size": 16
         },
         "textposition": "auto",
         "type": "bar",
         "x": [
          "rock",
          "pop",
          "indie",
          "urban",
          "electronic",
          "metal",
          "hip-hop",
          "punk",
          "fusion",
          "dj"
         ],
         "xaxis": "x",
         "y": [
          188,
          174,
          132,
          74,
          73,
          73,
          59,
          55,
          54,
          41
         ],
         "yaxis": "y"
        }
       ],
       "layout": {
        "annotations": [
         {
          "font": {
           "family": "AtkinsonHyperlegible",
           "size": 16
          },
          "showarrow": false,
          "text": "Fuente: fanmusicfest.com",
          "x": 9.4,
          "xanchor": "right",
          "y": 0,
          "yanchor": "top"
         }
        ],
        "barmode": "relative",
        "font": {
         "family": "AtkinsonHyperlegible"
        },
        "height": 600,
        "legend": {
         "tracegroupgap": 0
        },
        "margin": {
         "t": 60
        },
        "paper_bgcolor": "rgba(0,0,0,0)",
        "plot_bgcolor": "rgba(0,0,0,0)",
        "showlegend": false,
        "template": {
         "data": {
          "bar": [
           {
            "error_x": {
             "color": "#2a3f5f"
            },
            "error_y": {
             "color": "#2a3f5f"
            },
            "marker": {
             "line": {
              "color": "#E5ECF6",
              "width": 0.5
             },
             "pattern": {
              "fillmode": "overlay",
              "size": 10,
              "solidity": 0.2
             }
            },
            "type": "bar"
           }
          ],
          "barpolar": [
           {
            "marker": {
             "line": {
              "color": "#E5ECF6",
              "width": 0.5
             },
             "pattern": {
              "fillmode": "overlay",
              "size": 10,
              "solidity": 0.2
             }
            },
            "type": "barpolar"
           }
          ],
          "carpet": [
           {
            "aaxis": {
             "endlinecolor": "#2a3f5f",
             "gridcolor": "white",
             "linecolor": "white",
             "minorgridcolor": "white",
             "startlinecolor": "#2a3f5f"
            },
            "baxis": {
             "endlinecolor": "#2a3f5f",
             "gridcolor": "white",
             "linecolor": "white",
             "minorgridcolor": "white",
             "startlinecolor": "#2a3f5f"
            },
            "type": "carpet"
           }
          ],
          "choropleth": [
           {
            "colorbar": {
             "outlinewidth": 0,
             "ticks": ""
            },
            "type": "choropleth"
           }
          ],
          "contour": [
           {
            "colorbar": {
             "outlinewidth": 0,
             "ticks": ""
            },
            "colorscale": [
             [
              0,
              "#0d0887"
             ],
             [
              0.1111111111111111,
              "#46039f"
             ],
             [
              0.2222222222222222,
              "#7201a8"
             ],
             [
              0.3333333333333333,
              "#9c179e"
             ],
             [
              0.4444444444444444,
              "#bd3786"
             ],
             [
              0.5555555555555556,
              "#d8576b"
             ],
             [
              0.6666666666666666,
              "#ed7953"
             ],
             [
              0.7777777777777778,
              "#fb9f3a"
             ],
             [
              0.8888888888888888,
              "#fdca26"
             ],
             [
              1,
              "#f0f921"
             ]
            ],
            "type": "contour"
           }
          ],
          "contourcarpet": [
           {
            "colorbar": {
             "outlinewidth": 0,
             "ticks": ""
            },
            "type": "contourcarpet"
           }
          ],
          "heatmap": [
           {
            "colorbar": {
             "outlinewidth": 0,
             "ticks": ""
            },
            "colorscale": [
             [
              0,
              "#0d0887"
             ],
             [
              0.1111111111111111,
              "#46039f"
             ],
             [
              0.2222222222222222,
              "#7201a8"
             ],
             [
              0.3333333333333333,
              "#9c179e"
             ],
             [
              0.4444444444444444,
              "#bd3786"
             ],
             [
              0.5555555555555556,
              "#d8576b"
             ],
             [
              0.6666666666666666,
              "#ed7953"
             ],
             [
              0.7777777777777778,
              "#fb9f3a"
             ],
             [
              0.8888888888888888,
              "#fdca26"
             ],
             [
              1,
              "#f0f921"
             ]
            ],
            "type": "heatmap"
           }
          ],
          "heatmapgl": [
           {
            "colorbar": {
             "outlinewidth": 0,
             "ticks": ""
            },
            "colorscale": [
             [
              0,
              "#0d0887"
             ],
             [
              0.1111111111111111,
              "#46039f"
             ],
             [
              0.2222222222222222,
              "#7201a8"
             ],
             [
              0.3333333333333333,
              "#9c179e"
             ],
             [
              0.4444444444444444,
              "#bd3786"
             ],
             [
              0.5555555555555556,
              "#d8576b"
             ],
             [
              0.6666666666666666,
              "#ed7953"
             ],
             [
              0.7777777777777778,
              "#fb9f3a"
             ],
             [
              0.8888888888888888,
              "#fdca26"
             ],
             [
              1,
              "#f0f921"
             ]
            ],
            "type": "heatmapgl"
           }
          ],
          "histogram": [
           {
            "marker": {
             "pattern": {
              "fillmode": "overlay",
              "size": 10,
              "solidity": 0.2
             }
            },
            "type": "histogram"
           }
          ],
          "histogram2d": [
           {
            "colorbar": {
             "outlinewidth": 0,
             "ticks": ""
            },
            "colorscale": [
             [
              0,
              "#0d0887"
             ],
             [
              0.1111111111111111,
              "#46039f"
             ],
             [
              0.2222222222222222,
              "#7201a8"
             ],
             [
              0.3333333333333333,
              "#9c179e"
             ],
             [
              0.4444444444444444,
              "#bd3786"
             ],
             [
              0.5555555555555556,
              "#d8576b"
             ],
             [
              0.6666666666666666,
              "#ed7953"
             ],
             [
              0.7777777777777778,
              "#fb9f3a"
             ],
             [
              0.8888888888888888,
              "#fdca26"
             ],
             [
              1,
              "#f0f921"
             ]
            ],
            "type": "histogram2d"
           }
          ],
          "histogram2dcontour": [
           {
            "colorbar": {
             "outlinewidth": 0,
             "ticks": ""
            },
            "colorscale": [
             [
              0,
              "#0d0887"
             ],
             [
              0.1111111111111111,
              "#46039f"
             ],
             [
              0.2222222222222222,
              "#7201a8"
             ],
             [
              0.3333333333333333,
              "#9c179e"
             ],
             [
              0.4444444444444444,
              "#bd3786"
             ],
             [
              0.5555555555555556,
              "#d8576b"
             ],
             [
              0.6666666666666666,
              "#ed7953"
             ],
             [
              0.7777777777777778,
              "#fb9f3a"
             ],
             [
              0.8888888888888888,
              "#fdca26"
             ],
             [
              1,
              "#f0f921"
             ]
            ],
            "type": "histogram2dcontour"
           }
          ],
          "mesh3d": [
           {
            "colorbar": {
             "outlinewidth": 0,
             "ticks": ""
            },
            "type": "mesh3d"
           }
          ],
          "parcoords": [
           {
            "line": {
             "colorbar": {
              "outlinewidth": 0,
              "ticks": ""
             }
            },
            "type": "parcoords"
           }
          ],
          "pie": [
           {
            "automargin": true,
            "type": "pie"
           }
          ],
          "scatter": [
           {
            "fillpattern": {
             "fillmode": "overlay",
             "size": 10,
             "solidity": 0.2
            },
            "type": "scatter"
           }
          ],
          "scatter3d": [
           {
            "line": {
             "colorbar": {
              "outlinewidth": 0,
              "ticks": ""
             }
            },
            "marker": {
             "colorbar": {
              "outlinewidth": 0,
              "ticks": ""
             }
            },
            "type": "scatter3d"
           }
          ],
          "scattercarpet": [
           {
            "marker": {
             "colorbar": {
              "outlinewidth": 0,
              "ticks": ""
             }
            },
            "type": "scattercarpet"
           }
          ],
          "scattergeo": [
           {
            "marker": {
             "colorbar": {
              "outlinewidth": 0,
              "ticks": ""
             }
            },
            "type": "scattergeo"
           }
          ],
          "scattergl": [
           {
            "marker": {
             "colorbar": {
              "outlinewidth": 0,
              "ticks": ""
             }
            },
            "type": "scattergl"
           }
          ],
          "scattermapbox": [
           {
            "marker": {
             "colorbar": {
              "outlinewidth": 0,
              "ticks": ""
             }
            },
            "type": "scattermapbox"
           }
          ],
          "scatterpolar": [
           {
            "marker": {
             "colorbar": {
              "outlinewidth": 0,
              "ticks": ""
             }
            },
            "type": "scatterpolar"
           }
          ],
          "scatterpolargl": [
           {
            "marker": {
             "colorbar": {
              "outlinewidth": 0,
              "ticks": ""
             }
            },
            "type": "scatterpolargl"
           }
          ],
          "scatterternary": [
           {
            "marker": {
             "colorbar": {
              "outlinewidth": 0,
              "ticks": ""
             }
            },
            "type": "scatterternary"
           }
          ],
          "surface": [
           {
            "colorbar": {
             "outlinewidth": 0,
             "ticks": ""
            },
            "colorscale": [
             [
              0,
              "#0d0887"
             ],
             [
              0.1111111111111111,
              "#46039f"
             ],
             [
              0.2222222222222222,
              "#7201a8"
             ],
             [
              0.3333333333333333,
              "#9c179e"
             ],
             [
              0.4444444444444444,
              "#bd3786"
             ],
             [
              0.5555555555555556,
              "#d8576b"
             ],
             [
              0.6666666666666666,
              "#ed7953"
             ],
             [
              0.7777777777777778,
              "#fb9f3a"
             ],
             [
              0.8888888888888888,
              "#fdca26"
             ],
             [
              1,
              "#f0f921"
             ]
            ],
            "type": "surface"
           }
          ],
          "table": [
           {
            "cells": {
             "fill": {
              "color": "#EBF0F8"
             },
             "line": {
              "color": "white"
             }
            },
            "header": {
             "fill": {
              "color": "#C8D4E3"
             },
             "line": {
              "color": "white"
             }
            },
            "type": "table"
           }
          ]
         },
         "layout": {
          "annotationdefaults": {
           "arrowcolor": "#2a3f5f",
           "arrowhead": 0,
           "arrowwidth": 1
          },
          "autotypenumbers": "strict",
          "coloraxis": {
           "colorbar": {
            "outlinewidth": 0,
            "ticks": ""
           }
          },
          "colorscale": {
           "diverging": [
            [
             0,
             "#8e0152"
            ],
            [
             0.1,
             "#c51b7d"
            ],
            [
             0.2,
             "#de77ae"
            ],
            [
             0.3,
             "#f1b6da"
            ],
            [
             0.4,
             "#fde0ef"
            ],
            [
             0.5,
             "#f7f7f7"
            ],
            [
             0.6,
             "#e6f5d0"
            ],
            [
             0.7,
             "#b8e186"
            ],
            [
             0.8,
             "#7fbc41"
            ],
            [
             0.9,
             "#4d9221"
            ],
            [
             1,
             "#276419"
            ]
           ],
           "sequential": [
            [
             0,
             "#0d0887"
            ],
            [
             0.1111111111111111,
             "#46039f"
            ],
            [
             0.2222222222222222,
             "#7201a8"
            ],
            [
             0.3333333333333333,
             "#9c179e"
            ],
            [
             0.4444444444444444,
             "#bd3786"
            ],
            [
             0.5555555555555556,
             "#d8576b"
            ],
            [
             0.6666666666666666,
             "#ed7953"
            ],
            [
             0.7777777777777778,
             "#fb9f3a"
            ],
            [
             0.8888888888888888,
             "#fdca26"
            ],
            [
             1,
             "#f0f921"
            ]
           ],
           "sequentialminus": [
            [
             0,
             "#0d0887"
            ],
            [
             0.1111111111111111,
             "#46039f"
            ],
            [
             0.2222222222222222,
             "#7201a8"
            ],
            [
             0.3333333333333333,
             "#9c179e"
            ],
            [
             0.4444444444444444,
             "#bd3786"
            ],
            [
             0.5555555555555556,
             "#d8576b"
            ],
            [
             0.6666666666666666,
             "#ed7953"
            ],
            [
             0.7777777777777778,
             "#fb9f3a"
            ],
            [
             0.8888888888888888,
             "#fdca26"
            ],
            [
             1,
             "#f0f921"
            ]
           ]
          },
          "colorway": [
           "#636efa",
           "#EF553B",
           "#00cc96",
           "#ab63fa",
           "#FFA15A",
           "#19d3f3",
           "#FF6692",
           "#B6E880",
           "#FF97FF",
           "#FECB52"
          ],
          "font": {
           "color": "#2a3f5f"
          },
          "geo": {
           "bgcolor": "white",
           "lakecolor": "white",
           "landcolor": "#E5ECF6",
           "showlakes": true,
           "showland": true,
           "subunitcolor": "white"
          },
          "hoverlabel": {
           "align": "left"
          },
          "hovermode": "closest",
          "mapbox": {
           "style": "light"
          },
          "paper_bgcolor": "white",
          "plot_bgcolor": "#E5ECF6",
          "polar": {
           "angularaxis": {
            "gridcolor": "white",
            "linecolor": "white",
            "ticks": ""
           },
           "bgcolor": "#E5ECF6",
           "radialaxis": {
            "gridcolor": "white",
            "linecolor": "white",
            "ticks": ""
           }
          },
          "scene": {
           "xaxis": {
            "backgroundcolor": "#E5ECF6",
            "gridcolor": "white",
            "gridwidth": 2,
            "linecolor": "white",
            "showbackground": true,
            "ticks": "",
            "zerolinecolor": "white"
           },
           "yaxis": {
            "backgroundcolor": "#E5ECF6",
            "gridcolor": "white",
            "gridwidth": 2,
            "linecolor": "white",
            "showbackground": true,
            "ticks": "",
            "zerolinecolor": "white"
           },
           "zaxis": {
            "backgroundcolor": "#E5ECF6",
            "gridcolor": "white",
            "gridwidth": 2,
            "linecolor": "white",
            "showbackground": true,
            "ticks": "",
            "zerolinecolor": "white"
           }
          },
          "shapedefaults": {
           "line": {
            "color": "#2a3f5f"
           }
          },
          "ternary": {
           "aaxis": {
            "gridcolor": "white",
            "linecolor": "white",
            "ticks": ""
           },
           "baxis": {
            "gridcolor": "white",
            "linecolor": "white",
            "ticks": ""
           },
           "bgcolor": "#E5ECF6",
           "caxis": {
            "gridcolor": "white",
            "linecolor": "white",
            "ticks": ""
           }
          },
          "title": {
           "x": 0.05
          },
          "xaxis": {
           "automargin": true,
           "gridcolor": "white",
           "linecolor": "white",
           "ticks": "",
           "title": {
            "standoff": 15
           },
           "zerolinecolor": "white",
           "zerolinewidth": 2
          },
          "yaxis": {
           "automargin": true,
           "gridcolor": "white",
           "linecolor": "white",
           "ticks": "",
           "title": {
            "standoff": 15
           },
           "zerolinecolor": "white",
           "zerolinewidth": 2
          }
         }
        },
        "title": {
         "font": {
          "size": 30
         },
         "text": "<b>Top 10 estilos musicales</b>",
         "x": 0.5,
         "y": 0.95
        },
        "width": 1000,
        "xaxis": {
         "anchor": "y",
         "domain": [
          0,
          1
         ],
         "tickangle": -45,
         "tickfont": {
          "size": 18
         },
         "title": {
          "font": {
           "size": 25
          },
          "text": "Estilos musicales"
         }
        },
        "yaxis": {
         "anchor": "x",
         "domain": [
          0,
          1
         ],
         "gridcolor": "gray",
         "tickfont": {
          "size": 18
         },
         "title": {
          "font": {
           "size": 25
          },
          "text": "Cantidad"
         }
        }
       }
      }
     },
     "metadata": {},
     "output_type": "display_data"
    }
   ],
   "source": [
    "import plotly.express as px\n",
    "import pandas as pd\n",
    "import numpy as np\n",
    "\n",
    "palette_10 = [\"#03071e\",\"#370617\",\"#6a040f\",\"#9d0208\",\"#d00000\",\"#dc2f02\",\"#e85d04\",\"#f48c06\",\"#faa307\",\"#ffba08\"]\n",
    "\n",
    "values = estilos_analisis[\"count\"]\n",
    "\n",
    "fig = px.bar(estilos_analisis.head(10),\n",
    "            x='estilos',\n",
    "            y='count')\n",
    "\n",
    "fig.update_traces(\n",
    "                marker_color=np.tile(palette_10[::-1], len(estilos_analisis[\"estilos\"])),\n",
    "                text=values,\n",
    "                textposition='auto',\n",
    "                textfont=dict(size=16))\n",
    "\n",
    "fig.update_xaxes(\n",
    "                tickangle=-45,\n",
    "                tickfont=dict(size=18))\n",
    "\n",
    "fig.update_yaxes(\n",
    "                tickfont=dict(size=18),\n",
    "                gridcolor='gray')\n",
    "\n",
    "\n",
    "fig.update_layout(\n",
    "                    width=1000,\n",
    "                    height=600,\n",
    "                    title_text=\"<b>Top 10 estilos musicales</b>\",\n",
    "                    title_font=dict(size=30),\n",
    "                    title_x=0.5, title_y=0.95,\n",
    "                    plot_bgcolor='rgba(0,0,0,0)',\n",
    "                    paper_bgcolor='rgba(0,0,0,0)',\n",
    "                    yaxis_title='Cantidad',\n",
    "                    xaxis_title='Estilos musicales',\n",
    "                    yaxis_title_font=dict(size=25),\n",
    "                    xaxis_title_font=dict(size=25),\n",
    "                    font=dict(family='AtkinsonHyperlegible'),                           \n",
    "                    showlegend=False)\n",
    "                    \n",
    "\n",
    "fig.add_annotation(x=9.4, y=0, xanchor='right', yanchor='top',\n",
    "                    text='Fuente: fanmusicfest.com',\n",
    "                    font=dict(family='AtkinsonHyperlegible', size=16),\n",
    "                    showarrow=False)\n",
    "\n",
    "fig.write_image('png/estilos.png')\n",
    "fig.show()"
   ]
  },
  {
   "attachments": {},
   "cell_type": "markdown",
   "metadata": {},
   "source": [
    "## Ejemplo gráfico barras horizontales"
   ]
  },
  {
   "cell_type": "code",
   "execution_count": 4,
   "metadata": {},
   "outputs": [
    {
     "data": {
      "text/html": [
       "<div>\n",
       "<style scoped>\n",
       "    .dataframe tbody tr th:only-of-type {\n",
       "        vertical-align: middle;\n",
       "    }\n",
       "\n",
       "    .dataframe tbody tr th {\n",
       "        vertical-align: top;\n",
       "    }\n",
       "\n",
       "    .dataframe thead th {\n",
       "        text-align: right;\n",
       "    }\n",
       "</style>\n",
       "<table border=\"1\" class=\"dataframe\">\n",
       "  <thead>\n",
       "    <tr style=\"text-align: right;\">\n",
       "      <th></th>\n",
       "      <th>festival</th>\n",
       "      <th>asistentes</th>\n",
       "      <th>dias</th>\n",
       "    </tr>\n",
       "  </thead>\n",
       "  <tbody>\n",
       "    <tr>\n",
       "      <th>0</th>\n",
       "      <td>Medusa Sunbeach</td>\n",
       "      <td>315000</td>\n",
       "      <td>6</td>\n",
       "    </tr>\n",
       "    <tr>\n",
       "      <th>1</th>\n",
       "      <td>Arenal Sound</td>\n",
       "      <td>300000</td>\n",
       "      <td>6</td>\n",
       "    </tr>\n",
       "    <tr>\n",
       "      <th>2</th>\n",
       "      <td>Viña Rock</td>\n",
       "      <td>240000</td>\n",
       "      <td>3</td>\n",
       "    </tr>\n",
       "    <tr>\n",
       "      <th>3</th>\n",
       "      <td>Primavera Sound</td>\n",
       "      <td>220000</td>\n",
       "      <td>6</td>\n",
       "    </tr>\n",
       "    <tr>\n",
       "      <th>4</th>\n",
       "      <td>Rototom Sunsplash</td>\n",
       "      <td>202000</td>\n",
       "      <td>7</td>\n",
       "    </tr>\n",
       "    <tr>\n",
       "      <th>5</th>\n",
       "      <td>Mad Cool</td>\n",
       "      <td>185000</td>\n",
       "      <td>3</td>\n",
       "    </tr>\n",
       "    <tr>\n",
       "      <th>6</th>\n",
       "      <td>Dreambeach Festival</td>\n",
       "      <td>165000</td>\n",
       "      <td>5</td>\n",
       "    </tr>\n",
       "    <tr>\n",
       "      <th>7</th>\n",
       "      <td>Weekend Beach</td>\n",
       "      <td>150000</td>\n",
       "      <td>4</td>\n",
       "    </tr>\n",
       "    <tr>\n",
       "      <th>8</th>\n",
       "      <td>Cabo de Plata</td>\n",
       "      <td>132000</td>\n",
       "      <td>4</td>\n",
       "    </tr>\n",
       "    <tr>\n",
       "      <th>9</th>\n",
       "      <td>FIB</td>\n",
       "      <td>114000</td>\n",
       "      <td>4</td>\n",
       "    </tr>\n",
       "  </tbody>\n",
       "</table>\n",
       "</div>"
      ],
      "text/plain": [
       "               festival  asistentes  dias\n",
       "0      Medusa Sunbeach       315000     6\n",
       "1         Arenal Sound       300000     6\n",
       "2            Viña Rock       240000     3\n",
       "3      Primavera Sound       220000     6\n",
       "4    Rototom Sunsplash       202000     7\n",
       "5             Mad Cool       185000     3\n",
       "6  Dreambeach Festival       165000     5\n",
       "7        Weekend Beach       150000     4\n",
       "8        Cabo de Plata       132000     4\n",
       "9                  FIB       114000     4"
      ]
     },
     "execution_count": 4,
     "metadata": {},
     "output_type": "execute_result"
    }
   ],
   "source": [
    "festivales_2019 = pd.read_csv(\"csv/festivales_2019.csv\", index_col=0)\n",
    "festivales_2019"
   ]
  },
  {
   "cell_type": "code",
   "execution_count": 5,
   "metadata": {},
   "outputs": [
    {
     "data": {
      "application/vnd.plotly.v1+json": {
       "config": {
        "plotlyServerURL": "https://plot.ly"
       },
       "data": [
        {
         "alignmentgroup": "True",
         "hovertemplate": "asistentes=%{x}<br>festival=%{y}<extra></extra>",
         "legendgroup": "",
         "marker": {
          "color": [
           "#FFC42D",
           "#ffba08",
           "#faa307",
           "#f48c06",
           "#e85d04",
           "#dc2f02",
           "#d00000",
           "#9d0208",
           "#6a040f",
           "#370617",
           "#03071e",
           "#FFC42D",
           "#ffba08",
           "#faa307",
           "#f48c06",
           "#e85d04",
           "#dc2f02",
           "#d00000",
           "#9d0208",
           "#6a040f",
           "#370617",
           "#03071e",
           "#FFC42D",
           "#ffba08",
           "#faa307",
           "#f48c06",
           "#e85d04",
           "#dc2f02",
           "#d00000",
           "#9d0208",
           "#6a040f",
           "#370617",
           "#03071e",
           "#FFC42D",
           "#ffba08",
           "#faa307",
           "#f48c06",
           "#e85d04",
           "#dc2f02",
           "#d00000",
           "#9d0208",
           "#6a040f",
           "#370617",
           "#03071e",
           "#FFC42D",
           "#ffba08",
           "#faa307",
           "#f48c06",
           "#e85d04",
           "#dc2f02",
           "#d00000",
           "#9d0208",
           "#6a040f",
           "#370617",
           "#03071e",
           "#FFC42D",
           "#ffba08",
           "#faa307",
           "#f48c06",
           "#e85d04",
           "#dc2f02",
           "#d00000",
           "#9d0208",
           "#6a040f",
           "#370617",
           "#03071e",
           "#FFC42D",
           "#ffba08",
           "#faa307",
           "#f48c06",
           "#e85d04",
           "#dc2f02",
           "#d00000",
           "#9d0208",
           "#6a040f",
           "#370617",
           "#03071e",
           "#FFC42D",
           "#ffba08",
           "#faa307",
           "#f48c06",
           "#e85d04",
           "#dc2f02",
           "#d00000",
           "#9d0208",
           "#6a040f",
           "#370617",
           "#03071e",
           "#FFC42D",
           "#ffba08",
           "#faa307",
           "#f48c06",
           "#e85d04",
           "#dc2f02",
           "#d00000",
           "#9d0208",
           "#6a040f",
           "#370617",
           "#03071e",
           "#FFC42D",
           "#ffba08",
           "#faa307",
           "#f48c06",
           "#e85d04",
           "#dc2f02",
           "#d00000",
           "#9d0208",
           "#6a040f",
           "#370617",
           "#03071e"
          ],
          "pattern": {
           "shape": ""
          }
         },
         "name": "",
         "offsetgroup": "",
         "orientation": "h",
         "showlegend": false,
         "text": [
          6,
          6,
          3,
          6,
          7,
          3,
          5,
          4,
          4,
          4
         ],
         "textfont": {
          "size": 16
         },
         "textposition": "auto",
         "type": "bar",
         "x": [
          315000,
          300000,
          240000,
          220000,
          202000,
          185000,
          165000,
          150000,
          132000,
          114000
         ],
         "xaxis": "x",
         "y": [
          "Medusa Sunbeach ",
          "Arenal Sound ",
          "Viña Rock ",
          "Primavera Sound ",
          "Rototom Sunsplash ",
          "Mad Cool ",
          "Dreambeach Festival ",
          "Weekend Beach ",
          "Cabo de Plata ",
          "FIB "
         ],
         "yaxis": "y"
        }
       ],
       "layout": {
        "annotations": [
         {
          "font": {
           "family": "Spectral",
           "size": 13
          },
          "showarrow": false,
          "text": "Fuente: Anuario APM 2023",
          "x": 15,
          "xanchor": "left",
          "y": 0.2,
          "yanchor": "top"
         }
        ],
        "barmode": "relative",
        "font": {
         "family": "Century Gothic"
        },
        "height": 600,
        "legend": {
         "tracegroupgap": 0
        },
        "margin": {
         "t": 60
        },
        "paper_bgcolor": "rgba(0,0,0,0)",
        "plot_bgcolor": "rgba(0,0,0,0)",
        "showlegend": false,
        "template": {
         "data": {
          "bar": [
           {
            "error_x": {
             "color": "#2a3f5f"
            },
            "error_y": {
             "color": "#2a3f5f"
            },
            "marker": {
             "line": {
              "color": "#E5ECF6",
              "width": 0.5
             },
             "pattern": {
              "fillmode": "overlay",
              "size": 10,
              "solidity": 0.2
             }
            },
            "type": "bar"
           }
          ],
          "barpolar": [
           {
            "marker": {
             "line": {
              "color": "#E5ECF6",
              "width": 0.5
             },
             "pattern": {
              "fillmode": "overlay",
              "size": 10,
              "solidity": 0.2
             }
            },
            "type": "barpolar"
           }
          ],
          "carpet": [
           {
            "aaxis": {
             "endlinecolor": "#2a3f5f",
             "gridcolor": "white",
             "linecolor": "white",
             "minorgridcolor": "white",
             "startlinecolor": "#2a3f5f"
            },
            "baxis": {
             "endlinecolor": "#2a3f5f",
             "gridcolor": "white",
             "linecolor": "white",
             "minorgridcolor": "white",
             "startlinecolor": "#2a3f5f"
            },
            "type": "carpet"
           }
          ],
          "choropleth": [
           {
            "colorbar": {
             "outlinewidth": 0,
             "ticks": ""
            },
            "type": "choropleth"
           }
          ],
          "contour": [
           {
            "colorbar": {
             "outlinewidth": 0,
             "ticks": ""
            },
            "colorscale": [
             [
              0,
              "#0d0887"
             ],
             [
              0.1111111111111111,
              "#46039f"
             ],
             [
              0.2222222222222222,
              "#7201a8"
             ],
             [
              0.3333333333333333,
              "#9c179e"
             ],
             [
              0.4444444444444444,
              "#bd3786"
             ],
             [
              0.5555555555555556,
              "#d8576b"
             ],
             [
              0.6666666666666666,
              "#ed7953"
             ],
             [
              0.7777777777777778,
              "#fb9f3a"
             ],
             [
              0.8888888888888888,
              "#fdca26"
             ],
             [
              1,
              "#f0f921"
             ]
            ],
            "type": "contour"
           }
          ],
          "contourcarpet": [
           {
            "colorbar": {
             "outlinewidth": 0,
             "ticks": ""
            },
            "type": "contourcarpet"
           }
          ],
          "heatmap": [
           {
            "colorbar": {
             "outlinewidth": 0,
             "ticks": ""
            },
            "colorscale": [
             [
              0,
              "#0d0887"
             ],
             [
              0.1111111111111111,
              "#46039f"
             ],
             [
              0.2222222222222222,
              "#7201a8"
             ],
             [
              0.3333333333333333,
              "#9c179e"
             ],
             [
              0.4444444444444444,
              "#bd3786"
             ],
             [
              0.5555555555555556,
              "#d8576b"
             ],
             [
              0.6666666666666666,
              "#ed7953"
             ],
             [
              0.7777777777777778,
              "#fb9f3a"
             ],
             [
              0.8888888888888888,
              "#fdca26"
             ],
             [
              1,
              "#f0f921"
             ]
            ],
            "type": "heatmap"
           }
          ],
          "heatmapgl": [
           {
            "colorbar": {
             "outlinewidth": 0,
             "ticks": ""
            },
            "colorscale": [
             [
              0,
              "#0d0887"
             ],
             [
              0.1111111111111111,
              "#46039f"
             ],
             [
              0.2222222222222222,
              "#7201a8"
             ],
             [
              0.3333333333333333,
              "#9c179e"
             ],
             [
              0.4444444444444444,
              "#bd3786"
             ],
             [
              0.5555555555555556,
              "#d8576b"
             ],
             [
              0.6666666666666666,
              "#ed7953"
             ],
             [
              0.7777777777777778,
              "#fb9f3a"
             ],
             [
              0.8888888888888888,
              "#fdca26"
             ],
             [
              1,
              "#f0f921"
             ]
            ],
            "type": "heatmapgl"
           }
          ],
          "histogram": [
           {
            "marker": {
             "pattern": {
              "fillmode": "overlay",
              "size": 10,
              "solidity": 0.2
             }
            },
            "type": "histogram"
           }
          ],
          "histogram2d": [
           {
            "colorbar": {
             "outlinewidth": 0,
             "ticks": ""
            },
            "colorscale": [
             [
              0,
              "#0d0887"
             ],
             [
              0.1111111111111111,
              "#46039f"
             ],
             [
              0.2222222222222222,
              "#7201a8"
             ],
             [
              0.3333333333333333,
              "#9c179e"
             ],
             [
              0.4444444444444444,
              "#bd3786"
             ],
             [
              0.5555555555555556,
              "#d8576b"
             ],
             [
              0.6666666666666666,
              "#ed7953"
             ],
             [
              0.7777777777777778,
              "#fb9f3a"
             ],
             [
              0.8888888888888888,
              "#fdca26"
             ],
             [
              1,
              "#f0f921"
             ]
            ],
            "type": "histogram2d"
           }
          ],
          "histogram2dcontour": [
           {
            "colorbar": {
             "outlinewidth": 0,
             "ticks": ""
            },
            "colorscale": [
             [
              0,
              "#0d0887"
             ],
             [
              0.1111111111111111,
              "#46039f"
             ],
             [
              0.2222222222222222,
              "#7201a8"
             ],
             [
              0.3333333333333333,
              "#9c179e"
             ],
             [
              0.4444444444444444,
              "#bd3786"
             ],
             [
              0.5555555555555556,
              "#d8576b"
             ],
             [
              0.6666666666666666,
              "#ed7953"
             ],
             [
              0.7777777777777778,
              "#fb9f3a"
             ],
             [
              0.8888888888888888,
              "#fdca26"
             ],
             [
              1,
              "#f0f921"
             ]
            ],
            "type": "histogram2dcontour"
           }
          ],
          "mesh3d": [
           {
            "colorbar": {
             "outlinewidth": 0,
             "ticks": ""
            },
            "type": "mesh3d"
           }
          ],
          "parcoords": [
           {
            "line": {
             "colorbar": {
              "outlinewidth": 0,
              "ticks": ""
             }
            },
            "type": "parcoords"
           }
          ],
          "pie": [
           {
            "automargin": true,
            "type": "pie"
           }
          ],
          "scatter": [
           {
            "fillpattern": {
             "fillmode": "overlay",
             "size": 10,
             "solidity": 0.2
            },
            "type": "scatter"
           }
          ],
          "scatter3d": [
           {
            "line": {
             "colorbar": {
              "outlinewidth": 0,
              "ticks": ""
             }
            },
            "marker": {
             "colorbar": {
              "outlinewidth": 0,
              "ticks": ""
             }
            },
            "type": "scatter3d"
           }
          ],
          "scattercarpet": [
           {
            "marker": {
             "colorbar": {
              "outlinewidth": 0,
              "ticks": ""
             }
            },
            "type": "scattercarpet"
           }
          ],
          "scattergeo": [
           {
            "marker": {
             "colorbar": {
              "outlinewidth": 0,
              "ticks": ""
             }
            },
            "type": "scattergeo"
           }
          ],
          "scattergl": [
           {
            "marker": {
             "colorbar": {
              "outlinewidth": 0,
              "ticks": ""
             }
            },
            "type": "scattergl"
           }
          ],
          "scattermapbox": [
           {
            "marker": {
             "colorbar": {
              "outlinewidth": 0,
              "ticks": ""
             }
            },
            "type": "scattermapbox"
           }
          ],
          "scatterpolar": [
           {
            "marker": {
             "colorbar": {
              "outlinewidth": 0,
              "ticks": ""
             }
            },
            "type": "scatterpolar"
           }
          ],
          "scatterpolargl": [
           {
            "marker": {
             "colorbar": {
              "outlinewidth": 0,
              "ticks": ""
             }
            },
            "type": "scatterpolargl"
           }
          ],
          "scatterternary": [
           {
            "marker": {
             "colorbar": {
              "outlinewidth": 0,
              "ticks": ""
             }
            },
            "type": "scatterternary"
           }
          ],
          "surface": [
           {
            "colorbar": {
             "outlinewidth": 0,
             "ticks": ""
            },
            "colorscale": [
             [
              0,
              "#0d0887"
             ],
             [
              0.1111111111111111,
              "#46039f"
             ],
             [
              0.2222222222222222,
              "#7201a8"
             ],
             [
              0.3333333333333333,
              "#9c179e"
             ],
             [
              0.4444444444444444,
              "#bd3786"
             ],
             [
              0.5555555555555556,
              "#d8576b"
             ],
             [
              0.6666666666666666,
              "#ed7953"
             ],
             [
              0.7777777777777778,
              "#fb9f3a"
             ],
             [
              0.8888888888888888,
              "#fdca26"
             ],
             [
              1,
              "#f0f921"
             ]
            ],
            "type": "surface"
           }
          ],
          "table": [
           {
            "cells": {
             "fill": {
              "color": "#EBF0F8"
             },
             "line": {
              "color": "white"
             }
            },
            "header": {
             "fill": {
              "color": "#C8D4E3"
             },
             "line": {
              "color": "white"
             }
            },
            "type": "table"
           }
          ]
         },
         "layout": {
          "annotationdefaults": {
           "arrowcolor": "#2a3f5f",
           "arrowhead": 0,
           "arrowwidth": 1
          },
          "autotypenumbers": "strict",
          "coloraxis": {
           "colorbar": {
            "outlinewidth": 0,
            "ticks": ""
           }
          },
          "colorscale": {
           "diverging": [
            [
             0,
             "#8e0152"
            ],
            [
             0.1,
             "#c51b7d"
            ],
            [
             0.2,
             "#de77ae"
            ],
            [
             0.3,
             "#f1b6da"
            ],
            [
             0.4,
             "#fde0ef"
            ],
            [
             0.5,
             "#f7f7f7"
            ],
            [
             0.6,
             "#e6f5d0"
            ],
            [
             0.7,
             "#b8e186"
            ],
            [
             0.8,
             "#7fbc41"
            ],
            [
             0.9,
             "#4d9221"
            ],
            [
             1,
             "#276419"
            ]
           ],
           "sequential": [
            [
             0,
             "#0d0887"
            ],
            [
             0.1111111111111111,
             "#46039f"
            ],
            [
             0.2222222222222222,
             "#7201a8"
            ],
            [
             0.3333333333333333,
             "#9c179e"
            ],
            [
             0.4444444444444444,
             "#bd3786"
            ],
            [
             0.5555555555555556,
             "#d8576b"
            ],
            [
             0.6666666666666666,
             "#ed7953"
            ],
            [
             0.7777777777777778,
             "#fb9f3a"
            ],
            [
             0.8888888888888888,
             "#fdca26"
            ],
            [
             1,
             "#f0f921"
            ]
           ],
           "sequentialminus": [
            [
             0,
             "#0d0887"
            ],
            [
             0.1111111111111111,
             "#46039f"
            ],
            [
             0.2222222222222222,
             "#7201a8"
            ],
            [
             0.3333333333333333,
             "#9c179e"
            ],
            [
             0.4444444444444444,
             "#bd3786"
            ],
            [
             0.5555555555555556,
             "#d8576b"
            ],
            [
             0.6666666666666666,
             "#ed7953"
            ],
            [
             0.7777777777777778,
             "#fb9f3a"
            ],
            [
             0.8888888888888888,
             "#fdca26"
            ],
            [
             1,
             "#f0f921"
            ]
           ]
          },
          "colorway": [
           "#636efa",
           "#EF553B",
           "#00cc96",
           "#ab63fa",
           "#FFA15A",
           "#19d3f3",
           "#FF6692",
           "#B6E880",
           "#FF97FF",
           "#FECB52"
          ],
          "font": {
           "color": "#2a3f5f"
          },
          "geo": {
           "bgcolor": "white",
           "lakecolor": "white",
           "landcolor": "#E5ECF6",
           "showlakes": true,
           "showland": true,
           "subunitcolor": "white"
          },
          "hoverlabel": {
           "align": "left"
          },
          "hovermode": "closest",
          "mapbox": {
           "style": "light"
          },
          "paper_bgcolor": "white",
          "plot_bgcolor": "#E5ECF6",
          "polar": {
           "angularaxis": {
            "gridcolor": "white",
            "linecolor": "white",
            "ticks": ""
           },
           "bgcolor": "#E5ECF6",
           "radialaxis": {
            "gridcolor": "white",
            "linecolor": "white",
            "ticks": ""
           }
          },
          "scene": {
           "xaxis": {
            "backgroundcolor": "#E5ECF6",
            "gridcolor": "white",
            "gridwidth": 2,
            "linecolor": "white",
            "showbackground": true,
            "ticks": "",
            "zerolinecolor": "white"
           },
           "yaxis": {
            "backgroundcolor": "#E5ECF6",
            "gridcolor": "white",
            "gridwidth": 2,
            "linecolor": "white",
            "showbackground": true,
            "ticks": "",
            "zerolinecolor": "white"
           },
           "zaxis": {
            "backgroundcolor": "#E5ECF6",
            "gridcolor": "white",
            "gridwidth": 2,
            "linecolor": "white",
            "showbackground": true,
            "ticks": "",
            "zerolinecolor": "white"
           }
          },
          "shapedefaults": {
           "line": {
            "color": "#2a3f5f"
           }
          },
          "ternary": {
           "aaxis": {
            "gridcolor": "white",
            "linecolor": "white",
            "ticks": ""
           },
           "baxis": {
            "gridcolor": "white",
            "linecolor": "white",
            "ticks": ""
           },
           "bgcolor": "#E5ECF6",
           "caxis": {
            "gridcolor": "white",
            "linecolor": "white",
            "ticks": ""
           }
          },
          "title": {
           "x": 0.05
          },
          "xaxis": {
           "automargin": true,
           "gridcolor": "white",
           "linecolor": "white",
           "ticks": "",
           "title": {
            "standoff": 15
           },
           "zerolinecolor": "white",
           "zerolinewidth": 2
          },
          "yaxis": {
           "automargin": true,
           "gridcolor": "white",
           "linecolor": "white",
           "ticks": "",
           "title": {
            "standoff": 15
           },
           "zerolinecolor": "white",
           "zerolinewidth": 2
          }
         }
        },
        "title": {
         "font": {
          "size": 30
         },
         "text": "<b>Top 10 festivales. Asistencia 2019</b>",
         "x": 0.85,
         "y": 0.97
        },
        "width": 1000,
        "xaxis": {
         "anchor": "y",
         "domain": [
          0,
          1
         ],
         "tickangle": -45,
         "tickfont": {
          "size": 18
         },
         "title": {
          "font": {
           "size": 25
          },
          "text": "Asistentes"
         }
        },
        "yaxis": {
         "anchor": "x",
         "domain": [
          0,
          1
         ],
         "gridcolor": "gray",
         "tickfont": {
          "size": 18
         },
         "title": {
          "font": {
           "size": 25
          },
          "text": "Festivales"
         }
        }
       }
      }
     },
     "metadata": {},
     "output_type": "display_data"
    }
   ],
   "source": [
    "import plotly.express as px\n",
    "\n",
    "palette_11 = [\"#03071e\",\"#370617\",\"#6a040f\",\"#9d0208\",\"#d00000\",\"#dc2f02\",\"#e85d04\",\"#f48c06\",\"#faa307\",\"#ffba08\", \"#FFC42D\"]\n",
    "\n",
    "values = festivales_2019[\"dias\"]\n",
    "\n",
    "fig = px.bar(festivales_2019,\n",
    "            x='asistentes',\n",
    "            y='festival')\n",
    "\n",
    "fig.update_traces(\n",
    "                marker_color=np.tile(palette_11[::-1], len(festivales_2019[\"festival\"])),\n",
    "                text=values,\n",
    "                textposition='auto',\n",
    "                textfont=dict(size=16))\n",
    "\n",
    "fig.update_xaxes(\n",
    "                tickangle=-45,\n",
    "                tickfont=dict(size=18))\n",
    "\n",
    "fig.update_yaxes(\n",
    "                tickfont=dict(size=18),\n",
    "                gridcolor='gray')\n",
    "\n",
    "\n",
    "fig.update_layout(\n",
    "                    width=1000,\n",
    "                    height=600,\n",
    "                    title_text=\"<b>Top 10 festivales. Asistencia 2019</b>\",\n",
    "                    title_font=dict(size=30),\n",
    "                    title_x=0.85, title_y=0.97,\n",
    "                    plot_bgcolor='rgba(0,0,0,0)',\n",
    "                    paper_bgcolor='rgba(0,0,0,0)',\n",
    "                    yaxis_title='Festivales',\n",
    "                    xaxis_title='Asistentes',\n",
    "                    yaxis_title_font=dict(size=25),\n",
    "                    xaxis_title_font=dict(size=25),\n",
    "                    font=dict(family='Century Gothic'),                           \n",
    "                    showlegend=False)\n",
    "\n",
    "fig.add_annotation(x=15, y=0.2, xanchor='left', yanchor='top',\n",
    "                    text='Fuente: Anuario APM 2023',\n",
    "                    font=dict(family='Spectral', size=13),\n",
    "                    showarrow=False)                    \n",
    "\n",
    "fig.write_image('png/festivales_2019.png')\n",
    "fig.show()"
   ]
  },
  {
   "attachments": {},
   "cell_type": "markdown",
   "metadata": {},
   "source": [
    "## Ejemplo gráfico donut"
   ]
  },
  {
   "cell_type": "code",
   "execution_count": 6,
   "metadata": {},
   "outputs": [
    {
     "data": {
      "text/html": [
       "<div>\n",
       "<style scoped>\n",
       "    .dataframe tbody tr th:only-of-type {\n",
       "        vertical-align: middle;\n",
       "    }\n",
       "\n",
       "    .dataframe tbody tr th {\n",
       "        vertical-align: top;\n",
       "    }\n",
       "\n",
       "    .dataframe thead th {\n",
       "        text-align: right;\n",
       "    }\n",
       "</style>\n",
       "<table border=\"1\" class=\"dataframe\">\n",
       "  <thead>\n",
       "    <tr style=\"text-align: right;\">\n",
       "      <th></th>\n",
       "      <th>clasificacion_duracion</th>\n",
       "      <th>count</th>\n",
       "    </tr>\n",
       "  </thead>\n",
       "  <tbody>\n",
       "    <tr>\n",
       "      <th>0</th>\n",
       "      <td>1 día</td>\n",
       "      <td>129</td>\n",
       "    </tr>\n",
       "    <tr>\n",
       "      <th>1</th>\n",
       "      <td>2 días</td>\n",
       "      <td>117</td>\n",
       "    </tr>\n",
       "    <tr>\n",
       "      <th>2</th>\n",
       "      <td>3 días</td>\n",
       "      <td>78</td>\n",
       "    </tr>\n",
       "    <tr>\n",
       "      <th>3</th>\n",
       "      <td>más de 3 días</td>\n",
       "      <td>61</td>\n",
       "    </tr>\n",
       "  </tbody>\n",
       "</table>\n",
       "</div>"
      ],
      "text/plain": [
       "  clasificacion_duracion  count\n",
       "0                  1 día    129\n",
       "1                 2 días    117\n",
       "2                 3 días     78\n",
       "3          más de 3 días     61"
      ]
     },
     "execution_count": 6,
     "metadata": {},
     "output_type": "execute_result"
    }
   ],
   "source": [
    "duracion = pd.read_csv(\"csv/duracion.csv\", index_col= 0).reset_index()\n",
    "duracion"
   ]
  },
  {
   "cell_type": "code",
   "execution_count": 7,
   "metadata": {},
   "outputs": [
    {
     "data": {
      "application/vnd.plotly.v1+json": {
       "config": {
        "plotlyServerURL": "https://plot.ly"
       },
       "data": [
        {
         "domain": {
          "x": [
           0,
           1
          ],
          "y": [
           0,
           1
          ]
         },
         "hole": 0.5,
         "hovertemplate": "label=%{label}<br>value=%{value}<extra></extra>",
         "labels": [
          "1 día",
          "2 días",
          "3 días",
          "más de 3 días"
         ],
         "legendgroup": "",
         "name": "",
         "showlegend": true,
         "type": "pie",
         "values": [
          129,
          117,
          78,
          61
         ]
        }
       ],
       "layout": {
        "font": {
         "family": "Century Gothic"
        },
        "height": 600,
        "legend": {
         "tracegroupgap": 0
        },
        "paper_bgcolor": "rgba(0,0,0,0)",
        "piecolorway": [
         "#03071e",
         "#370617",
         "#6a040f",
         "#9d0208"
        ],
        "plot_bgcolor": "rgba(0,0,0,0)",
        "template": {
         "data": {
          "bar": [
           {
            "error_x": {
             "color": "#2a3f5f"
            },
            "error_y": {
             "color": "#2a3f5f"
            },
            "marker": {
             "line": {
              "color": "#E5ECF6",
              "width": 0.5
             },
             "pattern": {
              "fillmode": "overlay",
              "size": 10,
              "solidity": 0.2
             }
            },
            "type": "bar"
           }
          ],
          "barpolar": [
           {
            "marker": {
             "line": {
              "color": "#E5ECF6",
              "width": 0.5
             },
             "pattern": {
              "fillmode": "overlay",
              "size": 10,
              "solidity": 0.2
             }
            },
            "type": "barpolar"
           }
          ],
          "carpet": [
           {
            "aaxis": {
             "endlinecolor": "#2a3f5f",
             "gridcolor": "white",
             "linecolor": "white",
             "minorgridcolor": "white",
             "startlinecolor": "#2a3f5f"
            },
            "baxis": {
             "endlinecolor": "#2a3f5f",
             "gridcolor": "white",
             "linecolor": "white",
             "minorgridcolor": "white",
             "startlinecolor": "#2a3f5f"
            },
            "type": "carpet"
           }
          ],
          "choropleth": [
           {
            "colorbar": {
             "outlinewidth": 0,
             "ticks": ""
            },
            "type": "choropleth"
           }
          ],
          "contour": [
           {
            "colorbar": {
             "outlinewidth": 0,
             "ticks": ""
            },
            "colorscale": [
             [
              0,
              "#0d0887"
             ],
             [
              0.1111111111111111,
              "#46039f"
             ],
             [
              0.2222222222222222,
              "#7201a8"
             ],
             [
              0.3333333333333333,
              "#9c179e"
             ],
             [
              0.4444444444444444,
              "#bd3786"
             ],
             [
              0.5555555555555556,
              "#d8576b"
             ],
             [
              0.6666666666666666,
              "#ed7953"
             ],
             [
              0.7777777777777778,
              "#fb9f3a"
             ],
             [
              0.8888888888888888,
              "#fdca26"
             ],
             [
              1,
              "#f0f921"
             ]
            ],
            "type": "contour"
           }
          ],
          "contourcarpet": [
           {
            "colorbar": {
             "outlinewidth": 0,
             "ticks": ""
            },
            "type": "contourcarpet"
           }
          ],
          "heatmap": [
           {
            "colorbar": {
             "outlinewidth": 0,
             "ticks": ""
            },
            "colorscale": [
             [
              0,
              "#0d0887"
             ],
             [
              0.1111111111111111,
              "#46039f"
             ],
             [
              0.2222222222222222,
              "#7201a8"
             ],
             [
              0.3333333333333333,
              "#9c179e"
             ],
             [
              0.4444444444444444,
              "#bd3786"
             ],
             [
              0.5555555555555556,
              "#d8576b"
             ],
             [
              0.6666666666666666,
              "#ed7953"
             ],
             [
              0.7777777777777778,
              "#fb9f3a"
             ],
             [
              0.8888888888888888,
              "#fdca26"
             ],
             [
              1,
              "#f0f921"
             ]
            ],
            "type": "heatmap"
           }
          ],
          "heatmapgl": [
           {
            "colorbar": {
             "outlinewidth": 0,
             "ticks": ""
            },
            "colorscale": [
             [
              0,
              "#0d0887"
             ],
             [
              0.1111111111111111,
              "#46039f"
             ],
             [
              0.2222222222222222,
              "#7201a8"
             ],
             [
              0.3333333333333333,
              "#9c179e"
             ],
             [
              0.4444444444444444,
              "#bd3786"
             ],
             [
              0.5555555555555556,
              "#d8576b"
             ],
             [
              0.6666666666666666,
              "#ed7953"
             ],
             [
              0.7777777777777778,
              "#fb9f3a"
             ],
             [
              0.8888888888888888,
              "#fdca26"
             ],
             [
              1,
              "#f0f921"
             ]
            ],
            "type": "heatmapgl"
           }
          ],
          "histogram": [
           {
            "marker": {
             "pattern": {
              "fillmode": "overlay",
              "size": 10,
              "solidity": 0.2
             }
            },
            "type": "histogram"
           }
          ],
          "histogram2d": [
           {
            "colorbar": {
             "outlinewidth": 0,
             "ticks": ""
            },
            "colorscale": [
             [
              0,
              "#0d0887"
             ],
             [
              0.1111111111111111,
              "#46039f"
             ],
             [
              0.2222222222222222,
              "#7201a8"
             ],
             [
              0.3333333333333333,
              "#9c179e"
             ],
             [
              0.4444444444444444,
              "#bd3786"
             ],
             [
              0.5555555555555556,
              "#d8576b"
             ],
             [
              0.6666666666666666,
              "#ed7953"
             ],
             [
              0.7777777777777778,
              "#fb9f3a"
             ],
             [
              0.8888888888888888,
              "#fdca26"
             ],
             [
              1,
              "#f0f921"
             ]
            ],
            "type": "histogram2d"
           }
          ],
          "histogram2dcontour": [
           {
            "colorbar": {
             "outlinewidth": 0,
             "ticks": ""
            },
            "colorscale": [
             [
              0,
              "#0d0887"
             ],
             [
              0.1111111111111111,
              "#46039f"
             ],
             [
              0.2222222222222222,
              "#7201a8"
             ],
             [
              0.3333333333333333,
              "#9c179e"
             ],
             [
              0.4444444444444444,
              "#bd3786"
             ],
             [
              0.5555555555555556,
              "#d8576b"
             ],
             [
              0.6666666666666666,
              "#ed7953"
             ],
             [
              0.7777777777777778,
              "#fb9f3a"
             ],
             [
              0.8888888888888888,
              "#fdca26"
             ],
             [
              1,
              "#f0f921"
             ]
            ],
            "type": "histogram2dcontour"
           }
          ],
          "mesh3d": [
           {
            "colorbar": {
             "outlinewidth": 0,
             "ticks": ""
            },
            "type": "mesh3d"
           }
          ],
          "parcoords": [
           {
            "line": {
             "colorbar": {
              "outlinewidth": 0,
              "ticks": ""
             }
            },
            "type": "parcoords"
           }
          ],
          "pie": [
           {
            "automargin": true,
            "type": "pie"
           }
          ],
          "scatter": [
           {
            "fillpattern": {
             "fillmode": "overlay",
             "size": 10,
             "solidity": 0.2
            },
            "type": "scatter"
           }
          ],
          "scatter3d": [
           {
            "line": {
             "colorbar": {
              "outlinewidth": 0,
              "ticks": ""
             }
            },
            "marker": {
             "colorbar": {
              "outlinewidth": 0,
              "ticks": ""
             }
            },
            "type": "scatter3d"
           }
          ],
          "scattercarpet": [
           {
            "marker": {
             "colorbar": {
              "outlinewidth": 0,
              "ticks": ""
             }
            },
            "type": "scattercarpet"
           }
          ],
          "scattergeo": [
           {
            "marker": {
             "colorbar": {
              "outlinewidth": 0,
              "ticks": ""
             }
            },
            "type": "scattergeo"
           }
          ],
          "scattergl": [
           {
            "marker": {
             "colorbar": {
              "outlinewidth": 0,
              "ticks": ""
             }
            },
            "type": "scattergl"
           }
          ],
          "scattermapbox": [
           {
            "marker": {
             "colorbar": {
              "outlinewidth": 0,
              "ticks": ""
             }
            },
            "type": "scattermapbox"
           }
          ],
          "scatterpolar": [
           {
            "marker": {
             "colorbar": {
              "outlinewidth": 0,
              "ticks": ""
             }
            },
            "type": "scatterpolar"
           }
          ],
          "scatterpolargl": [
           {
            "marker": {
             "colorbar": {
              "outlinewidth": 0,
              "ticks": ""
             }
            },
            "type": "scatterpolargl"
           }
          ],
          "scatterternary": [
           {
            "marker": {
             "colorbar": {
              "outlinewidth": 0,
              "ticks": ""
             }
            },
            "type": "scatterternary"
           }
          ],
          "surface": [
           {
            "colorbar": {
             "outlinewidth": 0,
             "ticks": ""
            },
            "colorscale": [
             [
              0,
              "#0d0887"
             ],
             [
              0.1111111111111111,
              "#46039f"
             ],
             [
              0.2222222222222222,
              "#7201a8"
             ],
             [
              0.3333333333333333,
              "#9c179e"
             ],
             [
              0.4444444444444444,
              "#bd3786"
             ],
             [
              0.5555555555555556,
              "#d8576b"
             ],
             [
              0.6666666666666666,
              "#ed7953"
             ],
             [
              0.7777777777777778,
              "#fb9f3a"
             ],
             [
              0.8888888888888888,
              "#fdca26"
             ],
             [
              1,
              "#f0f921"
             ]
            ],
            "type": "surface"
           }
          ],
          "table": [
           {
            "cells": {
             "fill": {
              "color": "#EBF0F8"
             },
             "line": {
              "color": "white"
             }
            },
            "header": {
             "fill": {
              "color": "#C8D4E3"
             },
             "line": {
              "color": "white"
             }
            },
            "type": "table"
           }
          ]
         },
         "layout": {
          "annotationdefaults": {
           "arrowcolor": "#2a3f5f",
           "arrowhead": 0,
           "arrowwidth": 1
          },
          "autotypenumbers": "strict",
          "coloraxis": {
           "colorbar": {
            "outlinewidth": 0,
            "ticks": ""
           }
          },
          "colorscale": {
           "diverging": [
            [
             0,
             "#8e0152"
            ],
            [
             0.1,
             "#c51b7d"
            ],
            [
             0.2,
             "#de77ae"
            ],
            [
             0.3,
             "#f1b6da"
            ],
            [
             0.4,
             "#fde0ef"
            ],
            [
             0.5,
             "#f7f7f7"
            ],
            [
             0.6,
             "#e6f5d0"
            ],
            [
             0.7,
             "#b8e186"
            ],
            [
             0.8,
             "#7fbc41"
            ],
            [
             0.9,
             "#4d9221"
            ],
            [
             1,
             "#276419"
            ]
           ],
           "sequential": [
            [
             0,
             "#0d0887"
            ],
            [
             0.1111111111111111,
             "#46039f"
            ],
            [
             0.2222222222222222,
             "#7201a8"
            ],
            [
             0.3333333333333333,
             "#9c179e"
            ],
            [
             0.4444444444444444,
             "#bd3786"
            ],
            [
             0.5555555555555556,
             "#d8576b"
            ],
            [
             0.6666666666666666,
             "#ed7953"
            ],
            [
             0.7777777777777778,
             "#fb9f3a"
            ],
            [
             0.8888888888888888,
             "#fdca26"
            ],
            [
             1,
             "#f0f921"
            ]
           ],
           "sequentialminus": [
            [
             0,
             "#0d0887"
            ],
            [
             0.1111111111111111,
             "#46039f"
            ],
            [
             0.2222222222222222,
             "#7201a8"
            ],
            [
             0.3333333333333333,
             "#9c179e"
            ],
            [
             0.4444444444444444,
             "#bd3786"
            ],
            [
             0.5555555555555556,
             "#d8576b"
            ],
            [
             0.6666666666666666,
             "#ed7953"
            ],
            [
             0.7777777777777778,
             "#fb9f3a"
            ],
            [
             0.8888888888888888,
             "#fdca26"
            ],
            [
             1,
             "#f0f921"
            ]
           ]
          },
          "colorway": [
           "#636efa",
           "#EF553B",
           "#00cc96",
           "#ab63fa",
           "#FFA15A",
           "#19d3f3",
           "#FF6692",
           "#B6E880",
           "#FF97FF",
           "#FECB52"
          ],
          "font": {
           "color": "#2a3f5f"
          },
          "geo": {
           "bgcolor": "white",
           "lakecolor": "white",
           "landcolor": "#E5ECF6",
           "showlakes": true,
           "showland": true,
           "subunitcolor": "white"
          },
          "hoverlabel": {
           "align": "left"
          },
          "hovermode": "closest",
          "mapbox": {
           "style": "light"
          },
          "paper_bgcolor": "white",
          "plot_bgcolor": "#E5ECF6",
          "polar": {
           "angularaxis": {
            "gridcolor": "white",
            "linecolor": "white",
            "ticks": ""
           },
           "bgcolor": "#E5ECF6",
           "radialaxis": {
            "gridcolor": "white",
            "linecolor": "white",
            "ticks": ""
           }
          },
          "scene": {
           "xaxis": {
            "backgroundcolor": "#E5ECF6",
            "gridcolor": "white",
            "gridwidth": 2,
            "linecolor": "white",
            "showbackground": true,
            "ticks": "",
            "zerolinecolor": "white"
           },
           "yaxis": {
            "backgroundcolor": "#E5ECF6",
            "gridcolor": "white",
            "gridwidth": 2,
            "linecolor": "white",
            "showbackground": true,
            "ticks": "",
            "zerolinecolor": "white"
           },
           "zaxis": {
            "backgroundcolor": "#E5ECF6",
            "gridcolor": "white",
            "gridwidth": 2,
            "linecolor": "white",
            "showbackground": true,
            "ticks": "",
            "zerolinecolor": "white"
           }
          },
          "shapedefaults": {
           "line": {
            "color": "#2a3f5f"
           }
          },
          "ternary": {
           "aaxis": {
            "gridcolor": "white",
            "linecolor": "white",
            "ticks": ""
           },
           "baxis": {
            "gridcolor": "white",
            "linecolor": "white",
            "ticks": ""
           },
           "bgcolor": "#E5ECF6",
           "caxis": {
            "gridcolor": "white",
            "linecolor": "white",
            "ticks": ""
           }
          },
          "title": {
           "x": 0.05
          },
          "xaxis": {
           "automargin": true,
           "gridcolor": "white",
           "linecolor": "white",
           "ticks": "",
           "title": {
            "standoff": 15
           },
           "zerolinecolor": "white",
           "zerolinewidth": 2
          },
          "yaxis": {
           "automargin": true,
           "gridcolor": "white",
           "linecolor": "white",
           "ticks": "",
           "title": {
            "standoff": 15
           },
           "zerolinecolor": "white",
           "zerolinewidth": 2
          }
         }
        },
        "title": {
         "font": {
          "size": 30
         },
         "text": "<b>Duración de los festivales</b>",
         "x": 0.5,
         "y": 0.95
        },
        "width": 1000,
        "xaxis": {
         "title": {
          "font": {
           "size": 25
          }
         }
        },
        "yaxis": {
         "title": {
          "font": {
           "size": 25
          }
         }
        }
       }
      }
     },
     "metadata": {},
     "output_type": "display_data"
    }
   ],
   "source": [
    "import plotly.express as px\n",
    "\n",
    "palette = [\"#03071e\",\"#370617\",\"#6a040f\",\"#9d0208\"]\n",
    "\n",
    "fig = px.pie(duracion,  \n",
    "             values= list(duracion[\"count\"]), \n",
    "             names= list(duracion[\"clasificacion_duracion\"]),\n",
    "             hole= .5,\n",
    "             color_discrete_sequence= palette,\n",
    "             title='Gráfico de donut duración de los festivales')\n",
    "\n",
    "fig.update_layout(\n",
    "                    width=1000,\n",
    "                    height=600,\n",
    "                    title_text=\"<b>Duración de los festivales</b>\",\n",
    "                    title_font=dict(size=30),\n",
    "                    title_x=0.5, title_y=0.95,\n",
    "                    plot_bgcolor='rgba(0,0,0,0)',\n",
    "                    paper_bgcolor='rgba(0,0,0,0)',\n",
    "                    yaxis_title_font=dict(size=25),\n",
    "                    xaxis_title_font=dict(size=25),\n",
    "                    font=dict(family='Century Gothic'))\n",
    "\n",
    "fig.write_image('png/duracion.png')\n",
    "fig.show()"
   ]
  },
  {
   "attachments": {},
   "cell_type": "markdown",
   "metadata": {},
   "source": [
    "## Ejemplo gráfico líneas"
   ]
  },
  {
   "cell_type": "code",
   "execution_count": 8,
   "metadata": {},
   "outputs": [
    {
     "data": {
      "text/html": [
       "<div>\n",
       "<style scoped>\n",
       "    .dataframe tbody tr th:only-of-type {\n",
       "        vertical-align: middle;\n",
       "    }\n",
       "\n",
       "    .dataframe tbody tr th {\n",
       "        vertical-align: top;\n",
       "    }\n",
       "\n",
       "    .dataframe thead th {\n",
       "        text-align: right;\n",
       "    }\n",
       "</style>\n",
       "<table border=\"1\" class=\"dataframe\">\n",
       "  <thead>\n",
       "    <tr style=\"text-align: right;\">\n",
       "      <th></th>\n",
       "      <th>mes</th>\n",
       "      <th>total_festivales</th>\n",
       "    </tr>\n",
       "  </thead>\n",
       "  <tbody>\n",
       "    <tr>\n",
       "      <th>0</th>\n",
       "      <td>enero</td>\n",
       "      <td>12</td>\n",
       "    </tr>\n",
       "    <tr>\n",
       "      <th>1</th>\n",
       "      <td>febrero</td>\n",
       "      <td>19</td>\n",
       "    </tr>\n",
       "    <tr>\n",
       "      <th>2</th>\n",
       "      <td>marzo</td>\n",
       "      <td>35</td>\n",
       "    </tr>\n",
       "    <tr>\n",
       "      <th>3</th>\n",
       "      <td>abril</td>\n",
       "      <td>43</td>\n",
       "    </tr>\n",
       "    <tr>\n",
       "      <th>4</th>\n",
       "      <td>mayo</td>\n",
       "      <td>38</td>\n",
       "    </tr>\n",
       "    <tr>\n",
       "      <th>5</th>\n",
       "      <td>junio</td>\n",
       "      <td>86</td>\n",
       "    </tr>\n",
       "    <tr>\n",
       "      <th>6</th>\n",
       "      <td>julio</td>\n",
       "      <td>79</td>\n",
       "    </tr>\n",
       "    <tr>\n",
       "      <th>7</th>\n",
       "      <td>agosto</td>\n",
       "      <td>51</td>\n",
       "    </tr>\n",
       "    <tr>\n",
       "      <th>8</th>\n",
       "      <td>septiembre</td>\n",
       "      <td>36</td>\n",
       "    </tr>\n",
       "    <tr>\n",
       "      <th>9</th>\n",
       "      <td>octubre</td>\n",
       "      <td>12</td>\n",
       "    </tr>\n",
       "    <tr>\n",
       "      <th>10</th>\n",
       "      <td>noviembre</td>\n",
       "      <td>2</td>\n",
       "    </tr>\n",
       "    <tr>\n",
       "      <th>11</th>\n",
       "      <td>diciembre</td>\n",
       "      <td>1</td>\n",
       "    </tr>\n",
       "  </tbody>\n",
       "</table>\n",
       "</div>"
      ],
      "text/plain": [
       "           mes  total_festivales\n",
       "0        enero                12\n",
       "1      febrero                19\n",
       "2        marzo                35\n",
       "3        abril                43\n",
       "4         mayo                38\n",
       "5        junio                86\n",
       "6        julio                79\n",
       "7       agosto                51\n",
       "8   septiembre                36\n",
       "9      octubre                12\n",
       "10   noviembre                 2\n",
       "11   diciembre                 1"
      ]
     },
     "execution_count": 8,
     "metadata": {},
     "output_type": "execute_result"
    }
   ],
   "source": [
    "meses = pd.read_csv(\"csv/meses.csv\",sep=\";\", usecols= [\"mes\",\"total_festivales\"])\n",
    "meses"
   ]
  },
  {
   "cell_type": "code",
   "execution_count": 9,
   "metadata": {},
   "outputs": [
    {
     "data": {
      "application/vnd.plotly.v1+json": {
       "config": {
        "plotlyServerURL": "https://plot.ly"
       },
       "data": [
        {
         "hovertemplate": "mes=%{x}<br>cantidad=%{y}<extra></extra>",
         "legendgroup": "",
         "line": {
          "color": "#6a040f",
          "dash": "solid",
          "width": 4
         },
         "marker": {
          "size": 10,
          "symbol": "circle"
         },
         "mode": "lines+markers",
         "name": "",
         "orientation": "v",
         "showlegend": false,
         "type": "scatter",
         "x": [
          "enero",
          "febrero",
          "marzo",
          "abril",
          "mayo",
          "junio",
          "julio",
          "agosto",
          "septiembre",
          "octubre",
          "noviembre",
          "diciembre"
         ],
         "xaxis": "x",
         "y": [
          12,
          19,
          35,
          43,
          38,
          86,
          79,
          51,
          36,
          12,
          2,
          1
         ],
         "yaxis": "y"
        }
       ],
       "layout": {
        "annotations": [
         {
          "font": {
           "family": "AtkinsonHyperlegible",
           "size": 16
          },
          "showarrow": false,
          "text": "Fuente: fanmusicfest.com",
          "x": 11.4,
          "xanchor": "right",
          "y": 0,
          "yanchor": "top"
         }
        ],
        "font": {
         "family": "AtkinsonHyperlegible"
        },
        "height": 600,
        "legend": {
         "tracegroupgap": 0
        },
        "margin": {
         "t": 60
        },
        "paper_bgcolor": "rgba(0,0,0,0)",
        "plot_bgcolor": "rgba(0,0,0,0)",
        "showlegend": false,
        "template": {
         "data": {
          "bar": [
           {
            "error_x": {
             "color": "#2a3f5f"
            },
            "error_y": {
             "color": "#2a3f5f"
            },
            "marker": {
             "line": {
              "color": "#E5ECF6",
              "width": 0.5
             },
             "pattern": {
              "fillmode": "overlay",
              "size": 10,
              "solidity": 0.2
             }
            },
            "type": "bar"
           }
          ],
          "barpolar": [
           {
            "marker": {
             "line": {
              "color": "#E5ECF6",
              "width": 0.5
             },
             "pattern": {
              "fillmode": "overlay",
              "size": 10,
              "solidity": 0.2
             }
            },
            "type": "barpolar"
           }
          ],
          "carpet": [
           {
            "aaxis": {
             "endlinecolor": "#2a3f5f",
             "gridcolor": "white",
             "linecolor": "white",
             "minorgridcolor": "white",
             "startlinecolor": "#2a3f5f"
            },
            "baxis": {
             "endlinecolor": "#2a3f5f",
             "gridcolor": "white",
             "linecolor": "white",
             "minorgridcolor": "white",
             "startlinecolor": "#2a3f5f"
            },
            "type": "carpet"
           }
          ],
          "choropleth": [
           {
            "colorbar": {
             "outlinewidth": 0,
             "ticks": ""
            },
            "type": "choropleth"
           }
          ],
          "contour": [
           {
            "colorbar": {
             "outlinewidth": 0,
             "ticks": ""
            },
            "colorscale": [
             [
              0,
              "#0d0887"
             ],
             [
              0.1111111111111111,
              "#46039f"
             ],
             [
              0.2222222222222222,
              "#7201a8"
             ],
             [
              0.3333333333333333,
              "#9c179e"
             ],
             [
              0.4444444444444444,
              "#bd3786"
             ],
             [
              0.5555555555555556,
              "#d8576b"
             ],
             [
              0.6666666666666666,
              "#ed7953"
             ],
             [
              0.7777777777777778,
              "#fb9f3a"
             ],
             [
              0.8888888888888888,
              "#fdca26"
             ],
             [
              1,
              "#f0f921"
             ]
            ],
            "type": "contour"
           }
          ],
          "contourcarpet": [
           {
            "colorbar": {
             "outlinewidth": 0,
             "ticks": ""
            },
            "type": "contourcarpet"
           }
          ],
          "heatmap": [
           {
            "colorbar": {
             "outlinewidth": 0,
             "ticks": ""
            },
            "colorscale": [
             [
              0,
              "#0d0887"
             ],
             [
              0.1111111111111111,
              "#46039f"
             ],
             [
              0.2222222222222222,
              "#7201a8"
             ],
             [
              0.3333333333333333,
              "#9c179e"
             ],
             [
              0.4444444444444444,
              "#bd3786"
             ],
             [
              0.5555555555555556,
              "#d8576b"
             ],
             [
              0.6666666666666666,
              "#ed7953"
             ],
             [
              0.7777777777777778,
              "#fb9f3a"
             ],
             [
              0.8888888888888888,
              "#fdca26"
             ],
             [
              1,
              "#f0f921"
             ]
            ],
            "type": "heatmap"
           }
          ],
          "heatmapgl": [
           {
            "colorbar": {
             "outlinewidth": 0,
             "ticks": ""
            },
            "colorscale": [
             [
              0,
              "#0d0887"
             ],
             [
              0.1111111111111111,
              "#46039f"
             ],
             [
              0.2222222222222222,
              "#7201a8"
             ],
             [
              0.3333333333333333,
              "#9c179e"
             ],
             [
              0.4444444444444444,
              "#bd3786"
             ],
             [
              0.5555555555555556,
              "#d8576b"
             ],
             [
              0.6666666666666666,
              "#ed7953"
             ],
             [
              0.7777777777777778,
              "#fb9f3a"
             ],
             [
              0.8888888888888888,
              "#fdca26"
             ],
             [
              1,
              "#f0f921"
             ]
            ],
            "type": "heatmapgl"
           }
          ],
          "histogram": [
           {
            "marker": {
             "pattern": {
              "fillmode": "overlay",
              "size": 10,
              "solidity": 0.2
             }
            },
            "type": "histogram"
           }
          ],
          "histogram2d": [
           {
            "colorbar": {
             "outlinewidth": 0,
             "ticks": ""
            },
            "colorscale": [
             [
              0,
              "#0d0887"
             ],
             [
              0.1111111111111111,
              "#46039f"
             ],
             [
              0.2222222222222222,
              "#7201a8"
             ],
             [
              0.3333333333333333,
              "#9c179e"
             ],
             [
              0.4444444444444444,
              "#bd3786"
             ],
             [
              0.5555555555555556,
              "#d8576b"
             ],
             [
              0.6666666666666666,
              "#ed7953"
             ],
             [
              0.7777777777777778,
              "#fb9f3a"
             ],
             [
              0.8888888888888888,
              "#fdca26"
             ],
             [
              1,
              "#f0f921"
             ]
            ],
            "type": "histogram2d"
           }
          ],
          "histogram2dcontour": [
           {
            "colorbar": {
             "outlinewidth": 0,
             "ticks": ""
            },
            "colorscale": [
             [
              0,
              "#0d0887"
             ],
             [
              0.1111111111111111,
              "#46039f"
             ],
             [
              0.2222222222222222,
              "#7201a8"
             ],
             [
              0.3333333333333333,
              "#9c179e"
             ],
             [
              0.4444444444444444,
              "#bd3786"
             ],
             [
              0.5555555555555556,
              "#d8576b"
             ],
             [
              0.6666666666666666,
              "#ed7953"
             ],
             [
              0.7777777777777778,
              "#fb9f3a"
             ],
             [
              0.8888888888888888,
              "#fdca26"
             ],
             [
              1,
              "#f0f921"
             ]
            ],
            "type": "histogram2dcontour"
           }
          ],
          "mesh3d": [
           {
            "colorbar": {
             "outlinewidth": 0,
             "ticks": ""
            },
            "type": "mesh3d"
           }
          ],
          "parcoords": [
           {
            "line": {
             "colorbar": {
              "outlinewidth": 0,
              "ticks": ""
             }
            },
            "type": "parcoords"
           }
          ],
          "pie": [
           {
            "automargin": true,
            "type": "pie"
           }
          ],
          "scatter": [
           {
            "fillpattern": {
             "fillmode": "overlay",
             "size": 10,
             "solidity": 0.2
            },
            "type": "scatter"
           }
          ],
          "scatter3d": [
           {
            "line": {
             "colorbar": {
              "outlinewidth": 0,
              "ticks": ""
             }
            },
            "marker": {
             "colorbar": {
              "outlinewidth": 0,
              "ticks": ""
             }
            },
            "type": "scatter3d"
           }
          ],
          "scattercarpet": [
           {
            "marker": {
             "colorbar": {
              "outlinewidth": 0,
              "ticks": ""
             }
            },
            "type": "scattercarpet"
           }
          ],
          "scattergeo": [
           {
            "marker": {
             "colorbar": {
              "outlinewidth": 0,
              "ticks": ""
             }
            },
            "type": "scattergeo"
           }
          ],
          "scattergl": [
           {
            "marker": {
             "colorbar": {
              "outlinewidth": 0,
              "ticks": ""
             }
            },
            "type": "scattergl"
           }
          ],
          "scattermapbox": [
           {
            "marker": {
             "colorbar": {
              "outlinewidth": 0,
              "ticks": ""
             }
            },
            "type": "scattermapbox"
           }
          ],
          "scatterpolar": [
           {
            "marker": {
             "colorbar": {
              "outlinewidth": 0,
              "ticks": ""
             }
            },
            "type": "scatterpolar"
           }
          ],
          "scatterpolargl": [
           {
            "marker": {
             "colorbar": {
              "outlinewidth": 0,
              "ticks": ""
             }
            },
            "type": "scatterpolargl"
           }
          ],
          "scatterternary": [
           {
            "marker": {
             "colorbar": {
              "outlinewidth": 0,
              "ticks": ""
             }
            },
            "type": "scatterternary"
           }
          ],
          "surface": [
           {
            "colorbar": {
             "outlinewidth": 0,
             "ticks": ""
            },
            "colorscale": [
             [
              0,
              "#0d0887"
             ],
             [
              0.1111111111111111,
              "#46039f"
             ],
             [
              0.2222222222222222,
              "#7201a8"
             ],
             [
              0.3333333333333333,
              "#9c179e"
             ],
             [
              0.4444444444444444,
              "#bd3786"
             ],
             [
              0.5555555555555556,
              "#d8576b"
             ],
             [
              0.6666666666666666,
              "#ed7953"
             ],
             [
              0.7777777777777778,
              "#fb9f3a"
             ],
             [
              0.8888888888888888,
              "#fdca26"
             ],
             [
              1,
              "#f0f921"
             ]
            ],
            "type": "surface"
           }
          ],
          "table": [
           {
            "cells": {
             "fill": {
              "color": "#EBF0F8"
             },
             "line": {
              "color": "white"
             }
            },
            "header": {
             "fill": {
              "color": "#C8D4E3"
             },
             "line": {
              "color": "white"
             }
            },
            "type": "table"
           }
          ]
         },
         "layout": {
          "annotationdefaults": {
           "arrowcolor": "#2a3f5f",
           "arrowhead": 0,
           "arrowwidth": 1
          },
          "autotypenumbers": "strict",
          "coloraxis": {
           "colorbar": {
            "outlinewidth": 0,
            "ticks": ""
           }
          },
          "colorscale": {
           "diverging": [
            [
             0,
             "#8e0152"
            ],
            [
             0.1,
             "#c51b7d"
            ],
            [
             0.2,
             "#de77ae"
            ],
            [
             0.3,
             "#f1b6da"
            ],
            [
             0.4,
             "#fde0ef"
            ],
            [
             0.5,
             "#f7f7f7"
            ],
            [
             0.6,
             "#e6f5d0"
            ],
            [
             0.7,
             "#b8e186"
            ],
            [
             0.8,
             "#7fbc41"
            ],
            [
             0.9,
             "#4d9221"
            ],
            [
             1,
             "#276419"
            ]
           ],
           "sequential": [
            [
             0,
             "#0d0887"
            ],
            [
             0.1111111111111111,
             "#46039f"
            ],
            [
             0.2222222222222222,
             "#7201a8"
            ],
            [
             0.3333333333333333,
             "#9c179e"
            ],
            [
             0.4444444444444444,
             "#bd3786"
            ],
            [
             0.5555555555555556,
             "#d8576b"
            ],
            [
             0.6666666666666666,
             "#ed7953"
            ],
            [
             0.7777777777777778,
             "#fb9f3a"
            ],
            [
             0.8888888888888888,
             "#fdca26"
            ],
            [
             1,
             "#f0f921"
            ]
           ],
           "sequentialminus": [
            [
             0,
             "#0d0887"
            ],
            [
             0.1111111111111111,
             "#46039f"
            ],
            [
             0.2222222222222222,
             "#7201a8"
            ],
            [
             0.3333333333333333,
             "#9c179e"
            ],
            [
             0.4444444444444444,
             "#bd3786"
            ],
            [
             0.5555555555555556,
             "#d8576b"
            ],
            [
             0.6666666666666666,
             "#ed7953"
            ],
            [
             0.7777777777777778,
             "#fb9f3a"
            ],
            [
             0.8888888888888888,
             "#fdca26"
            ],
            [
             1,
             "#f0f921"
            ]
           ]
          },
          "colorway": [
           "#636efa",
           "#EF553B",
           "#00cc96",
           "#ab63fa",
           "#FFA15A",
           "#19d3f3",
           "#FF6692",
           "#B6E880",
           "#FF97FF",
           "#FECB52"
          ],
          "font": {
           "color": "#2a3f5f"
          },
          "geo": {
           "bgcolor": "white",
           "lakecolor": "white",
           "landcolor": "#E5ECF6",
           "showlakes": true,
           "showland": true,
           "subunitcolor": "white"
          },
          "hoverlabel": {
           "align": "left"
          },
          "hovermode": "closest",
          "mapbox": {
           "style": "light"
          },
          "paper_bgcolor": "white",
          "plot_bgcolor": "#E5ECF6",
          "polar": {
           "angularaxis": {
            "gridcolor": "white",
            "linecolor": "white",
            "ticks": ""
           },
           "bgcolor": "#E5ECF6",
           "radialaxis": {
            "gridcolor": "white",
            "linecolor": "white",
            "ticks": ""
           }
          },
          "scene": {
           "xaxis": {
            "backgroundcolor": "#E5ECF6",
            "gridcolor": "white",
            "gridwidth": 2,
            "linecolor": "white",
            "showbackground": true,
            "ticks": "",
            "zerolinecolor": "white"
           },
           "yaxis": {
            "backgroundcolor": "#E5ECF6",
            "gridcolor": "white",
            "gridwidth": 2,
            "linecolor": "white",
            "showbackground": true,
            "ticks": "",
            "zerolinecolor": "white"
           },
           "zaxis": {
            "backgroundcolor": "#E5ECF6",
            "gridcolor": "white",
            "gridwidth": 2,
            "linecolor": "white",
            "showbackground": true,
            "ticks": "",
            "zerolinecolor": "white"
           }
          },
          "shapedefaults": {
           "line": {
            "color": "#2a3f5f"
           }
          },
          "ternary": {
           "aaxis": {
            "gridcolor": "white",
            "linecolor": "white",
            "ticks": ""
           },
           "baxis": {
            "gridcolor": "white",
            "linecolor": "white",
            "ticks": ""
           },
           "bgcolor": "#E5ECF6",
           "caxis": {
            "gridcolor": "white",
            "linecolor": "white",
            "ticks": ""
           }
          },
          "title": {
           "x": 0.05
          },
          "xaxis": {
           "automargin": true,
           "gridcolor": "white",
           "linecolor": "white",
           "ticks": "",
           "title": {
            "standoff": 15
           },
           "zerolinecolor": "white",
           "zerolinewidth": 2
          },
          "yaxis": {
           "automargin": true,
           "gridcolor": "white",
           "linecolor": "white",
           "ticks": "",
           "title": {
            "standoff": 15
           },
           "zerolinecolor": "white",
           "zerolinewidth": 2
          }
         }
        },
        "title": {
         "font": {
          "size": 30
         },
         "text": "<b>Total festivales por meses</b>",
         "x": 0.5,
         "y": 0.98
        },
        "width": 1000,
        "xaxis": {
         "anchor": "y",
         "domain": [
          0,
          1
         ],
         "showgrid": false,
         "tickangle": -45,
         "tickfont": {
          "size": 18
         },
         "title": {
          "font": {
           "size": 25
          },
          "text": "Meses"
         }
        },
        "yaxis": {
         "anchor": "x",
         "domain": [
          0,
          1
         ],
         "gridcolor": "gray",
         "tickfont": {
          "size": 18
         },
         "title": {
          "font": {
           "size": 25
          },
          "text": "Cantidad"
         }
        }
       }
      }
     },
     "metadata": {},
     "output_type": "display_data"
    }
   ],
   "source": [
    "import plotly.express as px\n",
    "\n",
    "palette = [\"#6a040f\"]\n",
    "\n",
    "fig = px.line(meses,\n",
    "            x=\"mes\",\n",
    "            y='total_festivales',\n",
    "            color_discrete_sequence= palette,\n",
    "            labels={\"total_festivales\": \"cantidad\"})\n",
    "\n",
    "fig.update_traces(\n",
    "            line=dict(width=4),\n",
    "            mode='lines+markers',\n",
    "            marker=dict(size=10))\n",
    "\n",
    "\n",
    "fig.update_xaxes(\n",
    "                tickangle=-45,\n",
    "                tickfont=dict(size=18),\n",
    "                showgrid=False)\n",
    "\n",
    "fig.update_yaxes(\n",
    "                tickfont=dict(size=18),\n",
    "                gridcolor='gray')\n",
    "\n",
    "\n",
    "fig.update_layout(\n",
    "                    width=1000,\n",
    "                    height=600,\n",
    "                    title_text=\"<b>Total festivales por meses</b>\",\n",
    "                    title_font=dict(size=30),\n",
    "                    title_x=0.5, title_y=0.98,\n",
    "                    plot_bgcolor='rgba(0,0,0,0)',\n",
    "                    paper_bgcolor='rgba(0,0,0,0)',\n",
    "                    yaxis_title='Cantidad',\n",
    "                    xaxis_title='Meses',\n",
    "                    yaxis_title_font=dict(size=25),\n",
    "                    xaxis_title_font=dict(size=25),\n",
    "                    font=dict(family='AtkinsonHyperlegible'),                           \n",
    "                    showlegend=False)\n",
    "\n",
    "fig.add_annotation(x=11.4, y=0, xanchor='right', yanchor='top',\n",
    "                    text='Fuente: fanmusicfest.com',\n",
    "                    font=dict(family='AtkinsonHyperlegible', size=16),\n",
    "                    showarrow=False)                      \n",
    "\n",
    "fig.write_image('png/meses.png')\n",
    "fig.show()"
   ]
  },
  {
   "attachments": {},
   "cell_type": "markdown",
   "metadata": {},
   "source": [
    "## Ejemplo nube de tags"
   ]
  },
  {
   "cell_type": "code",
   "execution_count": 10,
   "metadata": {},
   "outputs": [
    {
     "data": {
      "text/html": [
       "<div>\n",
       "<style scoped>\n",
       "    .dataframe tbody tr th:only-of-type {\n",
       "        vertical-align: middle;\n",
       "    }\n",
       "\n",
       "    .dataframe tbody tr th {\n",
       "        vertical-align: top;\n",
       "    }\n",
       "\n",
       "    .dataframe thead th {\n",
       "        text-align: right;\n",
       "    }\n",
       "</style>\n",
       "<table border=\"1\" class=\"dataframe\">\n",
       "  <thead>\n",
       "    <tr style=\"text-align: right;\">\n",
       "      <th></th>\n",
       "      <th>factores</th>\n",
       "      <th>importancia</th>\n",
       "    </tr>\n",
       "  </thead>\n",
       "  <tbody>\n",
       "    <tr>\n",
       "      <th>0</th>\n",
       "      <td>festival</td>\n",
       "      <td>1500</td>\n",
       "    </tr>\n",
       "    <tr>\n",
       "      <th>1</th>\n",
       "      <td>lugar</td>\n",
       "      <td>12</td>\n",
       "    </tr>\n",
       "    <tr>\n",
       "      <th>2</th>\n",
       "      <td>fechaInicio</td>\n",
       "      <td>-500</td>\n",
       "    </tr>\n",
       "    <tr>\n",
       "      <th>3</th>\n",
       "      <td>fechaFin</td>\n",
       "      <td>-20</td>\n",
       "    </tr>\n",
       "    <tr>\n",
       "      <th>4</th>\n",
       "      <td>artistas</td>\n",
       "      <td>70</td>\n",
       "    </tr>\n",
       "    <tr>\n",
       "      <th>5</th>\n",
       "      <td>estilos</td>\n",
       "      <td>20</td>\n",
       "    </tr>\n",
       "    <tr>\n",
       "      <th>6</th>\n",
       "      <td>imagenCartel</td>\n",
       "      <td>2</td>\n",
       "    </tr>\n",
       "  </tbody>\n",
       "</table>\n",
       "</div>"
      ],
      "text/plain": [
       "       factores  importancia\n",
       "0      festival         1500\n",
       "1         lugar           12\n",
       "2   fechaInicio         -500\n",
       "3      fechaFin          -20\n",
       "4      artistas           70\n",
       "5       estilos           20\n",
       "6  imagenCartel            2"
      ]
     },
     "execution_count": 10,
     "metadata": {},
     "output_type": "execute_result"
    }
   ],
   "source": [
    "musical = pd.read_csv(\"csv/musical.csv\", index_col=0)\n",
    "musical"
   ]
  },
  {
   "cell_type": "code",
   "execution_count": 14,
   "metadata": {},
   "outputs": [
    {
     "data": {
      "image/png": "[encoded data removed]",
      "text/plain": [
       "<Figure size 640x480 with 1 Axes>"
      ]
     },
     "metadata": {},
     "output_type": "display_data"
    }
   ],
   "source": [
    "from wordcloud import WordCloud\n",
    "import matplotlib.pyplot as plt\n",
    "from matplotlib.colors import ListedColormap\n",
    "\n",
    "palette_7 = [\"#03071e\",\"#370617\",\"#6a040f\",\"#9d0208\",\"#d00000\",\"#dc2f02\",\"#e85d04\"]\n",
    "\n",
    "text = musical[\"factores\"]\n",
    "\n",
    "wordcloud = WordCloud(colormap=ListedColormap(palette_7), \n",
    "                      background_color=\"rgba(255, 255, 255, 0)\",\n",
    "                      mode=\"RGBA\",\n",
    "                      prefer_horizontal=1,\n",
    "                      font_path=\"fonts/Spectral-Regular.ttf\").generate(\" \".join(text))\n",
    "\n",
    "plt.imshow(wordcloud, interpolation='bilinear')\n",
    "plt.axis(\"off\")\n",
    "\n",
    "plt.savefig(\"png/musical.png\", format=\"png\", transparent=True, dpi=300)\n",
    "plt.show()\n"
   ]
  }
 ],
 "metadata": {
  "kernelspec": {
   "display_name": "core",
   "language": "python",
   "name": "python3"
  },
  "language_info": {
   "codemirror_mode": {
    "name": "ipython",
    "version": 3
   },
   "file_extension": ".py",
   "mimetype": "text/x-python",
   "name": "python",
   "nbconvert_exporter": "python",
   "pygments_lexer": "ipython3",
   "version": "3.9.16"
  },
  "orig_nbformat": 4
 },
 "nbformat": 4,
 "nbformat_minor": 2
}
